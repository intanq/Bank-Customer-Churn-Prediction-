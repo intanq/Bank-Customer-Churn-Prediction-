{
 "cells": [
  {
   "cell_type": "code",
   "execution_count": 54,
   "id": "a9f26e3a",
   "metadata": {},
   "outputs": [],
   "source": [
    "import pandas as pd\n",
    "import numpy as np\n",
    "import os\n",
    "import matplotlib.pyplot as plt\n",
    "from sklearn import tree,ensemble\n",
    "from sklearn.tree import DecisionTreeClassifier\n",
    "from sklearn.ensemble import AdaBoostClassifier\n",
    "from sklearn.metrics import accuracy_score, confusion_matrix, precision_score, recall_score, roc_auc_score, roc_curve, f1_score\n",
    "from sklearn.ensemble import RandomForestClassifier\n",
    "import seaborn as sns"
   ]
  },
  {
   "cell_type": "markdown",
   "id": "6c74c97a",
   "metadata": {},
   "source": [
    "# Predicting Bank Customers Churn\n",
    "By: Ni Putu Intan Maharani (23522048)"
   ]
  },
  {
   "cell_type": "markdown",
   "id": "0de3a2bc",
   "metadata": {},
   "source": [
    "## 1. Data Preparation and Feature Engineering\n",
    "In this step:\n",
    "1. Import the dataset\n",
    "2. Identify missing values\n",
    "3. Data type checking - for transformation\n",
    "4. Splitting datasets to X (independent variables) and y (dependent variables)\n",
    "4. Imbalance data analysis - including removing data with missing values"
   ]
  },
  {
   "cell_type": "markdown",
   "id": "c0f63659",
   "metadata": {},
   "source": [
    "### 1.1. Import the dataset"
   ]
  },
  {
   "cell_type": "code",
   "execution_count": 2,
   "id": "ecd919e8",
   "metadata": {},
   "outputs": [],
   "source": [
    "src_folder = \"/Users/intanmaharani/Desktop/Semester I August 2022/IF5171 - Pembelajaran Mesin DSAI/Prac3\"\n",
    "df_train_path = os.path.join(src_folder,\"churn_train.csv\")\n",
    "df_test_path = os.path.join(src_folder,\"churn_test.csv\")\n",
    "\n",
    "df_train = pd.read_csv(df_train_path)\n",
    "df_test = pd.read_csv(df_test_path)"
   ]
  },
  {
   "cell_type": "code",
   "execution_count": 3,
   "id": "3262f06b",
   "metadata": {},
   "outputs": [
    {
     "data": {
      "text/html": [
       "<div>\n",
       "<style scoped>\n",
       "    .dataframe tbody tr th:only-of-type {\n",
       "        vertical-align: middle;\n",
       "    }\n",
       "\n",
       "    .dataframe tbody tr th {\n",
       "        vertical-align: top;\n",
       "    }\n",
       "\n",
       "    .dataframe thead th {\n",
       "        text-align: right;\n",
       "    }\n",
       "</style>\n",
       "<table border=\"1\" class=\"dataframe\">\n",
       "  <thead>\n",
       "    <tr style=\"text-align: right;\">\n",
       "      <th></th>\n",
       "      <th>x0</th>\n",
       "      <th>x1</th>\n",
       "      <th>x2</th>\n",
       "      <th>x3</th>\n",
       "      <th>x4</th>\n",
       "      <th>x5</th>\n",
       "      <th>x6</th>\n",
       "      <th>x7</th>\n",
       "      <th>x8</th>\n",
       "      <th>x9</th>\n",
       "      <th>...</th>\n",
       "      <th>x116</th>\n",
       "      <th>x117</th>\n",
       "      <th>x118</th>\n",
       "      <th>x119</th>\n",
       "      <th>x120</th>\n",
       "      <th>x121</th>\n",
       "      <th>x122</th>\n",
       "      <th>x123</th>\n",
       "      <th>x124</th>\n",
       "      <th>y</th>\n",
       "    </tr>\n",
       "  </thead>\n",
       "  <tbody>\n",
       "    <tr>\n",
       "      <th>0</th>\n",
       "      <td>0.067563</td>\n",
       "      <td>-2.172492</td>\n",
       "      <td>-1.713774</td>\n",
       "      <td>-0.146854</td>\n",
       "      <td>-0.685219</td>\n",
       "      <td>-0.933838</td>\n",
       "      <td>4.0</td>\n",
       "      <td>2.0</td>\n",
       "      <td>-4.476051</td>\n",
       "      <td>-1.472306</td>\n",
       "      <td>...</td>\n",
       "      <td>4.607926</td>\n",
       "      <td>52.0</td>\n",
       "      <td>1.0</td>\n",
       "      <td>0.773809</td>\n",
       "      <td>0.766531</td>\n",
       "      <td>6.307142</td>\n",
       "      <td>9.074515</td>\n",
       "      <td>-2.694049</td>\n",
       "      <td>0.330964</td>\n",
       "      <td>0</td>\n",
       "    </tr>\n",
       "    <tr>\n",
       "      <th>1</th>\n",
       "      <td>0.099622</td>\n",
       "      <td>0.584803</td>\n",
       "      <td>-6.089758</td>\n",
       "      <td>-0.252186</td>\n",
       "      <td>-0.334912</td>\n",
       "      <td>-4.671281</td>\n",
       "      <td>4.0</td>\n",
       "      <td>2.0</td>\n",
       "      <td>-0.387076</td>\n",
       "      <td>-0.664552</td>\n",
       "      <td>...</td>\n",
       "      <td>15.889763</td>\n",
       "      <td>53.0</td>\n",
       "      <td>1.0</td>\n",
       "      <td>7.065852</td>\n",
       "      <td>0.994304</td>\n",
       "      <td>-0.028411</td>\n",
       "      <td>-21.472850</td>\n",
       "      <td>5.626095</td>\n",
       "      <td>1.293455</td>\n",
       "      <td>0</td>\n",
       "    </tr>\n",
       "    <tr>\n",
       "      <th>2</th>\n",
       "      <td>0.648421</td>\n",
       "      <td>3.881137</td>\n",
       "      <td>0.961359</td>\n",
       "      <td>0.217361</td>\n",
       "      <td>-1.471850</td>\n",
       "      <td>-0.975352</td>\n",
       "      <td>5.0</td>\n",
       "      <td>1.0</td>\n",
       "      <td>-0.850146</td>\n",
       "      <td>-4.011487</td>\n",
       "      <td>...</td>\n",
       "      <td>13.770410</td>\n",
       "      <td>53.0</td>\n",
       "      <td>1.0</td>\n",
       "      <td>-8.598553</td>\n",
       "      <td>-2.958302</td>\n",
       "      <td>-12.784030</td>\n",
       "      <td>-36.855873</td>\n",
       "      <td>0.356093</td>\n",
       "      <td>1.499790</td>\n",
       "      <td>0</td>\n",
       "    </tr>\n",
       "    <tr>\n",
       "      <th>3</th>\n",
       "      <td>0.005775</td>\n",
       "      <td>-2.726153</td>\n",
       "      <td>2.891378</td>\n",
       "      <td>-0.038325</td>\n",
       "      <td>2.280847</td>\n",
       "      <td>1.761478</td>\n",
       "      <td>3.0</td>\n",
       "      <td>3.0</td>\n",
       "      <td>9.116188</td>\n",
       "      <td>-4.610151</td>\n",
       "      <td>...</td>\n",
       "      <td>5.904901</td>\n",
       "      <td>50.0</td>\n",
       "      <td>1.0</td>\n",
       "      <td>8.194975</td>\n",
       "      <td>-7.798308</td>\n",
       "      <td>10.910515</td>\n",
       "      <td>15.226094</td>\n",
       "      <td>-10.440813</td>\n",
       "      <td>-0.735116</td>\n",
       "      <td>0</td>\n",
       "    </tr>\n",
       "    <tr>\n",
       "      <th>4</th>\n",
       "      <td>0.044396</td>\n",
       "      <td>2.803576</td>\n",
       "      <td>-1.923381</td>\n",
       "      <td>-0.116657</td>\n",
       "      <td>-1.574199</td>\n",
       "      <td>6.098627</td>\n",
       "      <td>3.0</td>\n",
       "      <td>1.0</td>\n",
       "      <td>-13.956141</td>\n",
       "      <td>13.785099</td>\n",
       "      <td>...</td>\n",
       "      <td>-14.603703</td>\n",
       "      <td>47.0</td>\n",
       "      <td>0.0</td>\n",
       "      <td>2.330789</td>\n",
       "      <td>-8.249825</td>\n",
       "      <td>-12.680490</td>\n",
       "      <td>40.192302</td>\n",
       "      <td>-5.037065</td>\n",
       "      <td>1.679262</td>\n",
       "      <td>1</td>\n",
       "    </tr>\n",
       "  </tbody>\n",
       "</table>\n",
       "<p>5 rows × 126 columns</p>\n",
       "</div>"
      ],
      "text/plain": [
       "         x0        x1        x2        x3        x4        x5   x6   x7  \\\n",
       "0  0.067563 -2.172492 -1.713774 -0.146854 -0.685219 -0.933838  4.0  2.0   \n",
       "1  0.099622  0.584803 -6.089758 -0.252186 -0.334912 -4.671281  4.0  2.0   \n",
       "2  0.648421  3.881137  0.961359  0.217361 -1.471850 -0.975352  5.0  1.0   \n",
       "3  0.005775 -2.726153  2.891378 -0.038325  2.280847  1.761478  3.0  3.0   \n",
       "4  0.044396  2.803576 -1.923381 -0.116657 -1.574199  6.098627  3.0  1.0   \n",
       "\n",
       "          x8         x9  ...       x116  x117  x118      x119      x120  \\\n",
       "0  -4.476051  -1.472306  ...   4.607926  52.0   1.0  0.773809  0.766531   \n",
       "1  -0.387076  -0.664552  ...  15.889763  53.0   1.0  7.065852  0.994304   \n",
       "2  -0.850146  -4.011487  ...  13.770410  53.0   1.0 -8.598553 -2.958302   \n",
       "3   9.116188  -4.610151  ...   5.904901  50.0   1.0  8.194975 -7.798308   \n",
       "4 -13.956141  13.785099  ... -14.603703  47.0   0.0  2.330789 -8.249825   \n",
       "\n",
       "        x121       x122       x123      x124  y  \n",
       "0   6.307142   9.074515  -2.694049  0.330964  0  \n",
       "1  -0.028411 -21.472850   5.626095  1.293455  0  \n",
       "2 -12.784030 -36.855873   0.356093  1.499790  0  \n",
       "3  10.910515  15.226094 -10.440813 -0.735116  0  \n",
       "4 -12.680490  40.192302  -5.037065  1.679262  1  \n",
       "\n",
       "[5 rows x 126 columns]"
      ]
     },
     "execution_count": 3,
     "metadata": {},
     "output_type": "execute_result"
    }
   ],
   "source": [
    "df_train.head()"
   ]
  },
  {
   "cell_type": "code",
   "execution_count": 4,
   "id": "dee8f910",
   "metadata": {},
   "outputs": [
    {
     "data": {
      "text/html": [
       "<div>\n",
       "<style scoped>\n",
       "    .dataframe tbody tr th:only-of-type {\n",
       "        vertical-align: middle;\n",
       "    }\n",
       "\n",
       "    .dataframe tbody tr th {\n",
       "        vertical-align: top;\n",
       "    }\n",
       "\n",
       "    .dataframe thead th {\n",
       "        text-align: right;\n",
       "    }\n",
       "</style>\n",
       "<table border=\"1\" class=\"dataframe\">\n",
       "  <thead>\n",
       "    <tr style=\"text-align: right;\">\n",
       "      <th></th>\n",
       "      <th>x0</th>\n",
       "      <th>x1</th>\n",
       "      <th>x2</th>\n",
       "      <th>x3</th>\n",
       "      <th>x4</th>\n",
       "      <th>x5</th>\n",
       "      <th>x6</th>\n",
       "      <th>x7</th>\n",
       "      <th>x8</th>\n",
       "      <th>x9</th>\n",
       "      <th>...</th>\n",
       "      <th>x116</th>\n",
       "      <th>x117</th>\n",
       "      <th>x118</th>\n",
       "      <th>x119</th>\n",
       "      <th>x120</th>\n",
       "      <th>x121</th>\n",
       "      <th>x122</th>\n",
       "      <th>x123</th>\n",
       "      <th>x124</th>\n",
       "      <th>y</th>\n",
       "    </tr>\n",
       "  </thead>\n",
       "  <tbody>\n",
       "    <tr>\n",
       "      <th>0</th>\n",
       "      <td>0.403735</td>\n",
       "      <td>-1.966104</td>\n",
       "      <td>-1.322339</td>\n",
       "      <td>0.084642</td>\n",
       "      <td>2.481997</td>\n",
       "      <td>-1.719155</td>\n",
       "      <td>5.0</td>\n",
       "      <td>2.0</td>\n",
       "      <td>-11.546670</td>\n",
       "      <td>-7.073770</td>\n",
       "      <td>...</td>\n",
       "      <td>-7.765934</td>\n",
       "      <td>59.0</td>\n",
       "      <td>1.0</td>\n",
       "      <td>-9.897690</td>\n",
       "      <td>5.694125</td>\n",
       "      <td>-6.734618</td>\n",
       "      <td>17.052251</td>\n",
       "      <td>3.601040</td>\n",
       "      <td>2.873498</td>\n",
       "      <td>0</td>\n",
       "    </tr>\n",
       "    <tr>\n",
       "      <th>1</th>\n",
       "      <td>0.032128</td>\n",
       "      <td>6.516294</td>\n",
       "      <td>-0.939752</td>\n",
       "      <td>0.026937</td>\n",
       "      <td>-0.992999</td>\n",
       "      <td>5.995462</td>\n",
       "      <td>4.0</td>\n",
       "      <td>3.0</td>\n",
       "      <td>-5.634876</td>\n",
       "      <td>1.937998</td>\n",
       "      <td>...</td>\n",
       "      <td>15.667015</td>\n",
       "      <td>47.0</td>\n",
       "      <td>1.0</td>\n",
       "      <td>7.781887</td>\n",
       "      <td>9.752716</td>\n",
       "      <td>5.918369</td>\n",
       "      <td>15.922908</td>\n",
       "      <td>5.460557</td>\n",
       "      <td>10.475816</td>\n",
       "      <td>0</td>\n",
       "    </tr>\n",
       "    <tr>\n",
       "      <th>2</th>\n",
       "      <td>-0.280345</td>\n",
       "      <td>0.930291</td>\n",
       "      <td>-1.028828</td>\n",
       "      <td>-0.050924</td>\n",
       "      <td>-3.164733</td>\n",
       "      <td>6.885108</td>\n",
       "      <td>3.0</td>\n",
       "      <td>2.0</td>\n",
       "      <td>1.609005</td>\n",
       "      <td>-1.812488</td>\n",
       "      <td>...</td>\n",
       "      <td>8.523648</td>\n",
       "      <td>55.0</td>\n",
       "      <td>0.0</td>\n",
       "      <td>6.815214</td>\n",
       "      <td>-3.325532</td>\n",
       "      <td>4.123546</td>\n",
       "      <td>-19.656038</td>\n",
       "      <td>8.380318</td>\n",
       "      <td>-1.203315</td>\n",
       "      <td>0</td>\n",
       "    </tr>\n",
       "    <tr>\n",
       "      <th>3</th>\n",
       "      <td>-0.313420</td>\n",
       "      <td>-0.568857</td>\n",
       "      <td>-1.576051</td>\n",
       "      <td>-0.003607</td>\n",
       "      <td>5.539969</td>\n",
       "      <td>-1.594770</td>\n",
       "      <td>4.0</td>\n",
       "      <td>3.0</td>\n",
       "      <td>-11.517734</td>\n",
       "      <td>-5.364282</td>\n",
       "      <td>...</td>\n",
       "      <td>-13.912115</td>\n",
       "      <td>41.0</td>\n",
       "      <td>0.0</td>\n",
       "      <td>3.158137</td>\n",
       "      <td>-7.088875</td>\n",
       "      <td>-3.035983</td>\n",
       "      <td>34.277048</td>\n",
       "      <td>-3.169203</td>\n",
       "      <td>1.417681</td>\n",
       "      <td>0</td>\n",
       "    </tr>\n",
       "    <tr>\n",
       "      <th>4</th>\n",
       "      <td>0.108825</td>\n",
       "      <td>-4.815631</td>\n",
       "      <td>5.491084</td>\n",
       "      <td>-0.123928</td>\n",
       "      <td>-1.932024</td>\n",
       "      <td>4.014821</td>\n",
       "      <td>5.0</td>\n",
       "      <td>3.0</td>\n",
       "      <td>-3.117576</td>\n",
       "      <td>2.004889</td>\n",
       "      <td>...</td>\n",
       "      <td>-14.432712</td>\n",
       "      <td>52.0</td>\n",
       "      <td>0.0</td>\n",
       "      <td>-3.867657</td>\n",
       "      <td>-13.308519</td>\n",
       "      <td>1.008302</td>\n",
       "      <td>41.449381</td>\n",
       "      <td>-0.804560</td>\n",
       "      <td>-0.649453</td>\n",
       "      <td>0</td>\n",
       "    </tr>\n",
       "  </tbody>\n",
       "</table>\n",
       "<p>5 rows × 126 columns</p>\n",
       "</div>"
      ],
      "text/plain": [
       "         x0        x1        x2        x3        x4        x5   x6   x7  \\\n",
       "0  0.403735 -1.966104 -1.322339  0.084642  2.481997 -1.719155  5.0  2.0   \n",
       "1  0.032128  6.516294 -0.939752  0.026937 -0.992999  5.995462  4.0  3.0   \n",
       "2 -0.280345  0.930291 -1.028828 -0.050924 -3.164733  6.885108  3.0  2.0   \n",
       "3 -0.313420 -0.568857 -1.576051 -0.003607  5.539969 -1.594770  4.0  3.0   \n",
       "4  0.108825 -4.815631  5.491084 -0.123928 -1.932024  4.014821  5.0  3.0   \n",
       "\n",
       "          x8        x9  ...       x116  x117  x118      x119       x120  \\\n",
       "0 -11.546670 -7.073770  ...  -7.765934  59.0   1.0 -9.897690   5.694125   \n",
       "1  -5.634876  1.937998  ...  15.667015  47.0   1.0  7.781887   9.752716   \n",
       "2   1.609005 -1.812488  ...   8.523648  55.0   0.0  6.815214  -3.325532   \n",
       "3 -11.517734 -5.364282  ... -13.912115  41.0   0.0  3.158137  -7.088875   \n",
       "4  -3.117576  2.004889  ... -14.432712  52.0   0.0 -3.867657 -13.308519   \n",
       "\n",
       "       x121       x122      x123       x124  y  \n",
       "0 -6.734618  17.052251  3.601040   2.873498  0  \n",
       "1  5.918369  15.922908  5.460557  10.475816  0  \n",
       "2  4.123546 -19.656038  8.380318  -1.203315  0  \n",
       "3 -3.035983  34.277048 -3.169203   1.417681  0  \n",
       "4  1.008302  41.449381 -0.804560  -0.649453  0  \n",
       "\n",
       "[5 rows x 126 columns]"
      ]
     },
     "execution_count": 4,
     "metadata": {},
     "output_type": "execute_result"
    }
   ],
   "source": [
    "df_test.head()"
   ]
  },
  {
   "cell_type": "code",
   "execution_count": 5,
   "id": "fed6702f",
   "metadata": {},
   "outputs": [
    {
     "data": {
      "text/plain": [
       "(100000, 126)"
      ]
     },
     "execution_count": 5,
     "metadata": {},
     "output_type": "execute_result"
    }
   ],
   "source": [
    "df_train.shape"
   ]
  },
  {
   "cell_type": "markdown",
   "id": "5e050644",
   "metadata": {},
   "source": [
    "There are 100,000 rows of data with 126 attributes (125 independent variables and 1 dependent variable)"
   ]
  },
  {
   "cell_type": "markdown",
   "id": "a3b6baef",
   "metadata": {},
   "source": [
    "### 1.2. Identify missing values"
   ]
  },
  {
   "cell_type": "code",
   "execution_count": 7,
   "id": "d3853c19",
   "metadata": {},
   "outputs": [
    {
     "data": {
      "text/plain": [
       "x0      123\n",
       "x1      131\n",
       "x2      124\n",
       "x3      115\n",
       "x4      137\n",
       "       ... \n",
       "x121    129\n",
       "x122    127\n",
       "x123    130\n",
       "x124    123\n",
       "y         0\n",
       "Length: 126, dtype: int64"
      ]
     },
     "execution_count": 7,
     "metadata": {},
     "output_type": "execute_result"
    }
   ],
   "source": [
    "df_train.isnull().sum()"
   ]
  },
  {
   "cell_type": "markdown",
   "id": "a96d5d99",
   "metadata": {},
   "source": [
    "There are quite a larga number of missing values for each independent variables. In this case, DT/ensemble algorithms can handle missing values."
   ]
  },
  {
   "cell_type": "markdown",
   "id": "5162807a",
   "metadata": {},
   "source": [
    "### 1.3. Data type checking and transformation"
   ]
  },
  {
   "cell_type": "code",
   "execution_count": 9,
   "id": "70647903",
   "metadata": {},
   "outputs": [
    {
     "data": {
      "text/plain": [
       "x0      float64\n",
       "x1      float64\n",
       "x2      float64\n",
       "x3      float64\n",
       "x4      float64\n",
       "         ...   \n",
       "x121    float64\n",
       "x122    float64\n",
       "x123    float64\n",
       "x124    float64\n",
       "y         int64\n",
       "Length: 126, dtype: object"
      ]
     },
     "execution_count": 9,
     "metadata": {},
     "output_type": "execute_result"
    }
   ],
   "source": [
    "df_train.dtypes"
   ]
  },
  {
   "cell_type": "code",
   "execution_count": 16,
   "id": "9417ef69",
   "metadata": {},
   "outputs": [
    {
     "data": {
      "text/plain": [
       "['x21', 'x79', 'x89', 'x108', 'x112']"
      ]
     },
     "execution_count": 16,
     "metadata": {},
     "output_type": "execute_result"
    }
   ],
   "source": [
    "features_to_encode = list(df_train.select_dtypes(include = ['object']).columns)\n",
    "features_to_encode"
   ]
  },
  {
   "cell_type": "markdown",
   "id": "7b78808b",
   "metadata": {},
   "source": [
    "Independent variable x21, x79, x89, x108, x112 have the type of object. Therefore we need to transform this to numerical representation."
   ]
  },
  {
   "cell_type": "code",
   "execution_count": 17,
   "id": "bde9c137",
   "metadata": {},
   "outputs": [],
   "source": [
    "# x21\n",
    "x21_unique = df_train['x21'].unique()\n",
    "x21_d = {}\n",
    "for idx,val in enumerate(x21_unique):\n",
    "    x21_d[val]=idx\n",
    "df_train['x21'] = df_train['x21'].map(x21_d)\n",
    "df_test['x21'] = df_test['x21'].map(x21_d)"
   ]
  },
  {
   "cell_type": "code",
   "execution_count": 23,
   "id": "685668d0",
   "metadata": {},
   "outputs": [
    {
     "data": {
      "text/plain": [
       "0    0\n",
       "1    1\n",
       "2    1\n",
       "3    0\n",
       "4    1\n",
       "Name: x21, dtype: int64"
      ]
     },
     "execution_count": 23,
     "metadata": {},
     "output_type": "execute_result"
    }
   ],
   "source": [
    "df_train['x21'].head()"
   ]
  },
  {
   "cell_type": "code",
   "execution_count": 18,
   "id": "946bc971",
   "metadata": {},
   "outputs": [
    {
     "data": {
      "text/plain": [
       "0    1\n",
       "1    1\n",
       "2    0\n",
       "3    5\n",
       "4    8\n",
       "Name: x21, dtype: int64"
      ]
     },
     "execution_count": 18,
     "metadata": {},
     "output_type": "execute_result"
    }
   ],
   "source": [
    "df_test['x21'].head()"
   ]
  },
  {
   "cell_type": "code",
   "execution_count": 19,
   "id": "5d5e2382",
   "metadata": {},
   "outputs": [],
   "source": [
    "# x79\n",
    "x79_unique = df_train['x79'].unique()\n",
    "x79_d = {}\n",
    "for idx,val in enumerate(x79_unique):\n",
    "    x79_d[val]=idx\n",
    "df_train['x79'] = df_train['x79'].map(x79_d)\n",
    "df_test['x79'] = df_test['x79'].map(x79_d)"
   ]
  },
  {
   "cell_type": "code",
   "execution_count": 24,
   "id": "55baab4d",
   "metadata": {},
   "outputs": [
    {
     "data": {
      "text/plain": [
       "0    0\n",
       "1    1\n",
       "2    1\n",
       "3    0\n",
       "4    0\n",
       "Name: x79, dtype: int64"
      ]
     },
     "execution_count": 24,
     "metadata": {},
     "output_type": "execute_result"
    }
   ],
   "source": [
    "df_train['x79'].head()"
   ]
  },
  {
   "cell_type": "code",
   "execution_count": 20,
   "id": "35ff4bb2",
   "metadata": {},
   "outputs": [
    {
     "data": {
      "text/plain": [
       "0    0\n",
       "1    0\n",
       "2    0\n",
       "3    1\n",
       "4    1\n",
       "Name: x79, dtype: int64"
      ]
     },
     "execution_count": 20,
     "metadata": {},
     "output_type": "execute_result"
    }
   ],
   "source": [
    "df_test['x79'].head()"
   ]
  },
  {
   "cell_type": "code",
   "execution_count": 21,
   "id": "8f7cd212",
   "metadata": {},
   "outputs": [],
   "source": [
    "# x89\n",
    "x89_unique = df_train['x89'].unique()\n",
    "x89_d = {}\n",
    "for idx,val in enumerate(x89_unique):\n",
    "    x89_d[val]=idx\n",
    "df_train['x89'] = df_train['x89'].map(x89_d)\n",
    "df_test['x89'] = df_test['x89'].map(x89_d)"
   ]
  },
  {
   "cell_type": "code",
   "execution_count": 25,
   "id": "8d9523ed",
   "metadata": {},
   "outputs": [
    {
     "data": {
      "text/plain": [
       "0    0\n",
       "1    1\n",
       "2    2\n",
       "3    3\n",
       "4    3\n",
       "Name: x89, dtype: int64"
      ]
     },
     "execution_count": 25,
     "metadata": {},
     "output_type": "execute_result"
    }
   ],
   "source": [
    "df_train['x89'].head()"
   ]
  },
  {
   "cell_type": "code",
   "execution_count": 26,
   "id": "3f198d14",
   "metadata": {},
   "outputs": [
    {
     "data": {
      "text/plain": [
       "0     7\n",
       "1     8\n",
       "2     7\n",
       "3     0\n",
       "4    11\n",
       "Name: x89, dtype: int64"
      ]
     },
     "execution_count": 26,
     "metadata": {},
     "output_type": "execute_result"
    }
   ],
   "source": [
    "df_test['x89'].head()"
   ]
  },
  {
   "cell_type": "code",
   "execution_count": 27,
   "id": "6d89d3d7",
   "metadata": {},
   "outputs": [],
   "source": [
    "# x108\n",
    "x108_unique = df_train['x108'].unique()\n",
    "x108_d = {}\n",
    "for idx,val in enumerate(x108_unique):\n",
    "    x108_d[val]=idx\n",
    "df_train['x108'] = df_train['x108'].map(x108_d)\n",
    "df_test['x108'] = df_test['x108'].map(x108_d)"
   ]
  },
  {
   "cell_type": "code",
   "execution_count": 28,
   "id": "b23f280f",
   "metadata": {},
   "outputs": [
    {
     "data": {
      "text/plain": [
       "0    0\n",
       "1    0\n",
       "2    1\n",
       "3    0\n",
       "4    2\n",
       "Name: x108, dtype: int64"
      ]
     },
     "execution_count": 28,
     "metadata": {},
     "output_type": "execute_result"
    }
   ],
   "source": [
    "df_train['x108'].head()"
   ]
  },
  {
   "cell_type": "code",
   "execution_count": 29,
   "id": "403f9d24",
   "metadata": {},
   "outputs": [
    {
     "data": {
      "text/plain": [
       "0    0\n",
       "1    0\n",
       "2    0\n",
       "3    0\n",
       "4    0\n",
       "Name: x108, dtype: int64"
      ]
     },
     "execution_count": 29,
     "metadata": {},
     "output_type": "execute_result"
    }
   ],
   "source": [
    "df_test['x108'].head()"
   ]
  },
  {
   "cell_type": "code",
   "execution_count": 30,
   "id": "147a0eea",
   "metadata": {},
   "outputs": [],
   "source": [
    "# x112\n",
    "x112_unique = df_train['x112'].unique()\n",
    "x112_d = {}\n",
    "for idx,val in enumerate(x112_unique):\n",
    "    x112_d[val]=idx\n",
    "df_train['x112'] = df_train['x112'].map(x112_d)\n",
    "df_test['x112'] = df_test['x112'].map(x112_d)"
   ]
  },
  {
   "cell_type": "code",
   "execution_count": 31,
   "id": "67a17afa",
   "metadata": {},
   "outputs": [
    {
     "data": {
      "text/plain": [
       "0    0\n",
       "1    0\n",
       "2    1\n",
       "3    2\n",
       "4    1\n",
       "Name: x112, dtype: int64"
      ]
     },
     "execution_count": 31,
     "metadata": {},
     "output_type": "execute_result"
    }
   ],
   "source": [
    "df_train['x112'].head()"
   ]
  },
  {
   "cell_type": "code",
   "execution_count": 32,
   "id": "959f8ed2",
   "metadata": {},
   "outputs": [
    {
     "data": {
      "text/plain": [
       "0    4\n",
       "1    2\n",
       "2    4\n",
       "3    1\n",
       "4    0\n",
       "Name: x112, dtype: int64"
      ]
     },
     "execution_count": 32,
     "metadata": {},
     "output_type": "execute_result"
    }
   ],
   "source": [
    "df_test['x112'].head()"
   ]
  },
  {
   "cell_type": "markdown",
   "id": "f1330f74",
   "metadata": {},
   "source": [
    "### 1.4. Splitting datasets to X (independent variables) and y (dependent variable)"
   ]
  },
  {
   "cell_type": "code",
   "execution_count": 33,
   "id": "745e9b9a",
   "metadata": {},
   "outputs": [
    {
     "name": "stdout",
     "output_type": "stream",
     "text": [
      ">>List of features: ['x0', 'x1', 'x2', 'x3', 'x4', 'x5', 'x6', 'x7', 'x8', 'x9', 'x10', 'x11', 'x12', 'x13', 'x14', 'x15', 'x16', 'x17', 'x18', 'x19', 'x20', 'x21', 'x22', 'x23', 'x24', 'x25', 'x26', 'x27', 'x28', 'x29', 'x30', 'x31', 'x32', 'x33', 'x34', 'x35', 'x36', 'x37', 'x38', 'x39', 'x40', 'x41', 'x42', 'x43', 'x44', 'x45', 'x46', 'x47', 'x48', 'x49', 'x50', 'x51', 'x52', 'x53', 'x54', 'x55', 'x56', 'x57', 'x58', 'x59', 'x60', 'x61', 'x62', 'x63', 'x64', 'x65', 'x66', 'x67', 'x68', 'x69', 'x70', 'x71', 'x72', 'x73', 'x74', 'x75', 'x76', 'x77', 'x78', 'x79', 'x80', 'x81', 'x82', 'x83', 'x84', 'x85', 'x86', 'x87', 'x88', 'x89', 'x90', 'x91', 'x92', 'x93', 'x94', 'x95', 'x96', 'x97', 'x98', 'x99', 'x100', 'x101', 'x102', 'x103', 'x104', 'x105', 'x106', 'x107', 'x108', 'x109', 'x110', 'x111', 'x112', 'x113', 'x114', 'x115', 'x116', 'x117', 'x118', 'x119', 'x120', 'x121', 'x122', 'x123', 'x124']\n",
      ">>Target: ['y']\n"
     ]
    }
   ],
   "source": [
    "attributes = list(df_train.columns)\n",
    "features = attributes[:-1]\n",
    "target = attributes[-1:]\n",
    "print(f\">>List of features: {features}\\n>>Target: {target}\")"
   ]
  },
  {
   "cell_type": "code",
   "execution_count": 34,
   "id": "d0246add",
   "metadata": {},
   "outputs": [],
   "source": [
    "# Splitting the datasets\n",
    "X_train = df_train[features].values\n",
    "y_train = df_train[target].values.flatten()\n",
    "X_test = df_test[features].values\n",
    "y_test = df_test[target].values.flatten()"
   ]
  },
  {
   "cell_type": "markdown",
   "id": "bb63283f",
   "metadata": {},
   "source": [
    "### 1.5. Imbalance data analysis"
   ]
  },
  {
   "cell_type": "code",
   "execution_count": 35,
   "id": "b836c89c",
   "metadata": {},
   "outputs": [],
   "source": [
    "from collections import Counter\n",
    "from imblearn.over_sampling import SMOTE, ADASYN\n",
    "from imblearn.under_sampling import RandomUnderSampler"
   ]
  },
  {
   "cell_type": "code",
   "execution_count": 36,
   "id": "5497aa64",
   "metadata": {},
   "outputs": [
    {
     "name": "stdout",
     "output_type": "stream",
     "text": [
      "Class=0, n=83008 (83.00800000000001%)\n",
      "Class=1, n=16992 (16.991999999999997%)\n"
     ]
    },
    {
     "data": {
      "image/png": "[encoded data removed]",
      "text/plain": [
       "<Figure size 432x288 with 1 Axes>"
      ]
     },
     "metadata": {
      "needs_background": "light"
     },
     "output_type": "display_data"
    }
   ],
   "source": [
    "counter = Counter(y_train)\n",
    "plt.bar(counter.keys(), counter.values())\n",
    "for k, v in counter.items():\n",
    "    dist = v/len(y_train) * 100\n",
    "    print(f\"Class={k}, n={v} ({dist}%)\")"
   ]
  },
  {
   "cell_type": "markdown",
   "id": "d82fac37",
   "metadata": {},
   "source": [
    "It can be seen that ~83% of the data is in class 0 and the remaining is in class 1. Therefore, sampling techniques will be performed to balance the data for each class. Oversampling will be used in this case (i.e., SMOTE and ADASYN) as well as Undersampling (i.e., RandomUnderSampler)"
   ]
  },
  {
   "cell_type": "markdown",
   "id": "33a83176",
   "metadata": {},
   "source": [
    "#### 1.5.1. SMOTE Oversampling"
   ]
  },
  {
   "cell_type": "code",
   "execution_count": 38,
   "id": "17958dee",
   "metadata": {},
   "outputs": [],
   "source": [
    "smote = SMOTE()\n",
    "# Drop NaN values\n",
    "df_train_nan_dropped = df_train[:].dropna()\n",
    "X_train_nan_dropped = df_train_nan_dropped[features].values\n",
    "y_train_nan_dropped = df_train_nan_dropped[target].values.flatten()\n",
    "X_train_smote, y_train_smote = smote.fit_resample(X_train_nan_dropped, y_train_nan_dropped)"
   ]
  },
  {
   "cell_type": "code",
   "execution_count": 40,
   "id": "b0243157",
   "metadata": {},
   "outputs": [
    {
     "name": "stdout",
     "output_type": "stream",
     "text": [
      "Class=0, n=70237 (50.0%)\n",
      "Class=1, n=70237 (50.0%)\n"
     ]
    },
    {
     "data": {
      "image/png": "[encoded data removed]",
      "text/plain": [
       "<Figure size 432x288 with 1 Axes>"
      ]
     },
     "metadata": {
      "needs_background": "light"
     },
     "output_type": "display_data"
    }
   ],
   "source": [
    "counter = Counter(y_train_smote)\n",
    "plt.bar(counter.keys(), counter.values())\n",
    "for k, v in counter.items():\n",
    "    dist = v/len(y_train_smote) * 100\n",
    "    print(f\"Class={k}, n={v} ({dist}%)\")"
   ]
  },
  {
   "cell_type": "markdown",
   "id": "d4b30238",
   "metadata": {},
   "source": [
    "#### 1.5.2. ADASYN Oversampling"
   ]
  },
  {
   "cell_type": "code",
   "execution_count": 41,
   "id": "a309e324",
   "metadata": {},
   "outputs": [
    {
     "name": "stdout",
     "output_type": "stream",
     "text": [
      "Class=0, n=70237 (50.90707467511288%)\n",
      "Class=1, n=67734 (49.09292532488712%)\n"
     ]
    },
    {
     "data": {
      "image/png": "[encoded data removed]",
      "text/plain": [
       "<Figure size 432x288 with 1 Axes>"
      ]
     },
     "metadata": {
      "needs_background": "light"
     },
     "output_type": "display_data"
    }
   ],
   "source": [
    "adasyn = ADASYN()\n",
    "X_train_ada, y_train_ada = adasyn.fit_resample(X_train_nan_dropped, y_train_nan_dropped)\n",
    "\n",
    "# Check how 'balanced' the dataset - target class - is after oversampling\n",
    "counter = Counter(y_train_ada)\n",
    "plt.bar(counter.keys(), counter.values())\n",
    "for k, v in counter.items():\n",
    "    dist = v/len(y_train_ada) * 100\n",
    "    print(f\"Class={k}, n={v} ({dist}%)\")"
   ]
  },
  {
   "cell_type": "markdown",
   "id": "d3746b72",
   "metadata": {},
   "source": [
    "#### 1.5.3. RandomUnderSampler Undersampling"
   ]
  },
  {
   "cell_type": "code",
   "execution_count": 42,
   "id": "5b482043",
   "metadata": {},
   "outputs": [
    {
     "name": "stdout",
     "output_type": "stream",
     "text": [
      "Class=0, n=14388 (50.0%)\n",
      "Class=1, n=14388 (50.0%)\n"
     ]
    },
    {
     "data": {
      "image/png": "[encoded data removed]",
      "text/plain": [
       "<Figure size 432x288 with 1 Axes>"
      ]
     },
     "metadata": {
      "needs_background": "light"
     },
     "output_type": "display_data"
    }
   ],
   "source": [
    "rus = RandomUnderSampler()\n",
    "X_train_rus, y_train_rus = rus.fit_resample(X_train_nan_dropped, y_train_nan_dropped)\n",
    "\n",
    "# Check how 'balanced' the dataset - target class - is after oversampling\n",
    "counter = Counter(y_train_rus)\n",
    "plt.bar(counter.keys(), counter.values())\n",
    "for k, v in counter.items():\n",
    "    dist = v/len(y_train_rus) * 100\n",
    "    print(f\"Class={k}, n={v} ({dist}%)\")"
   ]
  },
  {
   "cell_type": "markdown",
   "id": "e80f9bcc",
   "metadata": {},
   "source": [
    "We will perform experiments in training by using:\n",
    "1. the imbalanced dataset => X_train, y_train\n",
    "2. the oversampled dataset (SMOTE) => X_train_smote, y_train_smote\n",
    "3. the oversampled dataset (ADASYN) => X_train_ada, y_train_ada\n",
    "4. the undersampled dataset (RandomUnderSampler) => X_train_rus, y_train_rus\n",
    "\n",
    "PS: For sampled dataset, df_test containing NaN values will be dropped"
   ]
  },
  {
   "cell_type": "code",
   "execution_count": 49,
   "id": "a830af35",
   "metadata": {},
   "outputs": [],
   "source": [
    "df_test_nan_dropped = df_test[:].dropna()\n",
    "X_test_nan_dropped = df_test_nan_dropped[features].values\n",
    "y_test_nan_dropped = df_test_nan_dropped[target].values.flatten()"
   ]
  },
  {
   "cell_type": "code",
   "execution_count": 50,
   "id": "ddeaf574",
   "metadata": {},
   "outputs": [
    {
     "data": {
      "text/plain": [
       "(21060, 126)"
      ]
     },
     "execution_count": 50,
     "metadata": {},
     "output_type": "execute_result"
    }
   ],
   "source": [
    "df_test_nan_dropped.shape"
   ]
  },
  {
   "cell_type": "markdown",
   "id": "a316a71e",
   "metadata": {},
   "source": [
    "## 2. Exploratory Data Analysis"
   ]
  },
  {
   "cell_type": "code",
   "execution_count": 46,
   "id": "87dd726c",
   "metadata": {},
   "outputs": [
    {
     "data": {
      "text/html": [
       "<div>\n",
       "<style scoped>\n",
       "    .dataframe tbody tr th:only-of-type {\n",
       "        vertical-align: middle;\n",
       "    }\n",
       "\n",
       "    .dataframe tbody tr th {\n",
       "        vertical-align: top;\n",
       "    }\n",
       "\n",
       "    .dataframe thead th {\n",
       "        text-align: right;\n",
       "    }\n",
       "</style>\n",
       "<table border=\"1\" class=\"dataframe\">\n",
       "  <thead>\n",
       "    <tr style=\"text-align: right;\">\n",
       "      <th></th>\n",
       "      <th>x0</th>\n",
       "      <th>x1</th>\n",
       "      <th>x2</th>\n",
       "      <th>x3</th>\n",
       "      <th>x4</th>\n",
       "      <th>x5</th>\n",
       "      <th>x6</th>\n",
       "      <th>x7</th>\n",
       "      <th>x8</th>\n",
       "      <th>x9</th>\n",
       "      <th>...</th>\n",
       "      <th>x116</th>\n",
       "      <th>x117</th>\n",
       "      <th>x118</th>\n",
       "      <th>x119</th>\n",
       "      <th>x120</th>\n",
       "      <th>x121</th>\n",
       "      <th>x122</th>\n",
       "      <th>x123</th>\n",
       "      <th>x124</th>\n",
       "      <th>y</th>\n",
       "    </tr>\n",
       "  </thead>\n",
       "  <tbody>\n",
       "    <tr>\n",
       "      <th>count</th>\n",
       "      <td>99877.000000</td>\n",
       "      <td>99869.000000</td>\n",
       "      <td>99876.000000</td>\n",
       "      <td>99885.000000</td>\n",
       "      <td>99863.000000</td>\n",
       "      <td>99884.000000</td>\n",
       "      <td>99878.000000</td>\n",
       "      <td>99867.000000</td>\n",
       "      <td>99866.000000</td>\n",
       "      <td>99870.000000</td>\n",
       "      <td>...</td>\n",
       "      <td>99877.000000</td>\n",
       "      <td>99864.000000</td>\n",
       "      <td>99873.000000</td>\n",
       "      <td>99878.000000</td>\n",
       "      <td>99880.000000</td>\n",
       "      <td>99871.000000</td>\n",
       "      <td>99873.000000</td>\n",
       "      <td>99870.000000</td>\n",
       "      <td>99877.000000</td>\n",
       "      <td>100000.000000</td>\n",
       "    </tr>\n",
       "    <tr>\n",
       "      <th>mean</th>\n",
       "      <td>-0.000110</td>\n",
       "      <td>0.001045</td>\n",
       "      <td>0.009028</td>\n",
       "      <td>-0.000254</td>\n",
       "      <td>-0.677076</td>\n",
       "      <td>-0.002404</td>\n",
       "      <td>4.306714</td>\n",
       "      <td>2.366517</td>\n",
       "      <td>0.013684</td>\n",
       "      <td>-0.016469</td>\n",
       "      <td>...</td>\n",
       "      <td>0.038825</td>\n",
       "      <td>50.012697</td>\n",
       "      <td>0.577373</td>\n",
       "      <td>3.883003</td>\n",
       "      <td>-0.021634</td>\n",
       "      <td>-0.015191</td>\n",
       "      <td>7.594731</td>\n",
       "      <td>-0.012175</td>\n",
       "      <td>0.008854</td>\n",
       "      <td>0.169920</td>\n",
       "    </tr>\n",
       "    <tr>\n",
       "      <th>std</th>\n",
       "      <td>0.424300</td>\n",
       "      <td>3.379969</td>\n",
       "      <td>3.088269</td>\n",
       "      <td>0.121542</td>\n",
       "      <td>2.561589</td>\n",
       "      <td>4.042530</td>\n",
       "      <td>1.140149</td>\n",
       "      <td>0.728027</td>\n",
       "      <td>7.766165</td>\n",
       "      <td>5.391990</td>\n",
       "      <td>...</td>\n",
       "      <td>9.063181</td>\n",
       "      <td>6.892136</td>\n",
       "      <td>0.493980</td>\n",
       "      <td>10.795317</td>\n",
       "      <td>5.571357</td>\n",
       "      <td>9.745984</td>\n",
       "      <td>35.358657</td>\n",
       "      <td>3.947540</td>\n",
       "      <td>4.128462</td>\n",
       "      <td>0.375564</td>\n",
       "    </tr>\n",
       "    <tr>\n",
       "      <th>min</th>\n",
       "      <td>-1.724571</td>\n",
       "      <td>-16.097070</td>\n",
       "      <td>-13.519334</td>\n",
       "      <td>-0.517647</td>\n",
       "      <td>-13.627396</td>\n",
       "      <td>-16.984482</td>\n",
       "      <td>0.000000</td>\n",
       "      <td>0.000000</td>\n",
       "      <td>-34.513401</td>\n",
       "      <td>-23.449782</td>\n",
       "      <td>...</td>\n",
       "      <td>-37.320446</td>\n",
       "      <td>21.000000</td>\n",
       "      <td>0.000000</td>\n",
       "      <td>-42.113882</td>\n",
       "      <td>-23.512064</td>\n",
       "      <td>-43.961674</td>\n",
       "      <td>-165.068134</td>\n",
       "      <td>-17.229400</td>\n",
       "      <td>-16.394975</td>\n",
       "      <td>0.000000</td>\n",
       "    </tr>\n",
       "    <tr>\n",
       "      <th>25%</th>\n",
       "      <td>-0.288149</td>\n",
       "      <td>-2.274297</td>\n",
       "      <td>-2.070010</td>\n",
       "      <td>-0.082583</td>\n",
       "      <td>-2.384499</td>\n",
       "      <td>-2.732918</td>\n",
       "      <td>4.000000</td>\n",
       "      <td>2.000000</td>\n",
       "      <td>-5.233073</td>\n",
       "      <td>-3.642062</td>\n",
       "      <td>...</td>\n",
       "      <td>-6.077436</td>\n",
       "      <td>45.000000</td>\n",
       "      <td>0.000000</td>\n",
       "      <td>-3.247750</td>\n",
       "      <td>-3.776839</td>\n",
       "      <td>-6.630953</td>\n",
       "      <td>-16.275026</td>\n",
       "      <td>-2.656104</td>\n",
       "      <td>-2.766022</td>\n",
       "      <td>0.000000</td>\n",
       "    </tr>\n",
       "    <tr>\n",
       "      <th>50%</th>\n",
       "      <td>-0.000976</td>\n",
       "      <td>0.015052</td>\n",
       "      <td>0.014444</td>\n",
       "      <td>-0.000445</td>\n",
       "      <td>-0.679873</td>\n",
       "      <td>0.000063</td>\n",
       "      <td>4.000000</td>\n",
       "      <td>2.000000</td>\n",
       "      <td>0.004569</td>\n",
       "      <td>-0.034581</td>\n",
       "      <td>...</td>\n",
       "      <td>0.044680</td>\n",
       "      <td>50.000000</td>\n",
       "      <td>1.000000</td>\n",
       "      <td>3.900552</td>\n",
       "      <td>-0.018491</td>\n",
       "      <td>-0.025400</td>\n",
       "      <td>6.668708</td>\n",
       "      <td>-0.032674</td>\n",
       "      <td>-0.002028</td>\n",
       "      <td>0.000000</td>\n",
       "    </tr>\n",
       "    <tr>\n",
       "      <th>75%</th>\n",
       "      <td>0.286196</td>\n",
       "      <td>2.288710</td>\n",
       "      <td>2.087186</td>\n",
       "      <td>0.081461</td>\n",
       "      <td>1.034269</td>\n",
       "      <td>2.726788</td>\n",
       "      <td>5.000000</td>\n",
       "      <td>3.000000</td>\n",
       "      <td>5.273118</td>\n",
       "      <td>3.617453</td>\n",
       "      <td>...</td>\n",
       "      <td>6.144167</td>\n",
       "      <td>54.000000</td>\n",
       "      <td>1.000000</td>\n",
       "      <td>11.039607</td>\n",
       "      <td>3.743165</td>\n",
       "      <td>6.594418</td>\n",
       "      <td>30.879552</td>\n",
       "      <td>2.638333</td>\n",
       "      <td>2.788782</td>\n",
       "      <td>0.000000</td>\n",
       "    </tr>\n",
       "    <tr>\n",
       "      <th>max</th>\n",
       "      <td>1.762542</td>\n",
       "      <td>14.768077</td>\n",
       "      <td>13.335437</td>\n",
       "      <td>0.513763</td>\n",
       "      <td>10.442234</td>\n",
       "      <td>20.186745</td>\n",
       "      <td>9.000000</td>\n",
       "      <td>5.000000</td>\n",
       "      <td>33.000825</td>\n",
       "      <td>23.296840</td>\n",
       "      <td>...</td>\n",
       "      <td>38.712294</td>\n",
       "      <td>80.000000</td>\n",
       "      <td>1.000000</td>\n",
       "      <td>57.003256</td>\n",
       "      <td>25.927916</td>\n",
       "      <td>41.261627</td>\n",
       "      <td>174.645087</td>\n",
       "      <td>17.058603</td>\n",
       "      <td>17.921770</td>\n",
       "      <td>1.000000</td>\n",
       "    </tr>\n",
       "  </tbody>\n",
       "</table>\n",
       "<p>8 rows × 126 columns</p>\n",
       "</div>"
      ],
      "text/plain": [
       "                 x0            x1            x2            x3            x4  \\\n",
       "count  99877.000000  99869.000000  99876.000000  99885.000000  99863.000000   \n",
       "mean      -0.000110      0.001045      0.009028     -0.000254     -0.677076   \n",
       "std        0.424300      3.379969      3.088269      0.121542      2.561589   \n",
       "min       -1.724571    -16.097070    -13.519334     -0.517647    -13.627396   \n",
       "25%       -0.288149     -2.274297     -2.070010     -0.082583     -2.384499   \n",
       "50%       -0.000976      0.015052      0.014444     -0.000445     -0.679873   \n",
       "75%        0.286196      2.288710      2.087186      0.081461      1.034269   \n",
       "max        1.762542     14.768077     13.335437      0.513763     10.442234   \n",
       "\n",
       "                 x5            x6            x7            x8            x9  \\\n",
       "count  99884.000000  99878.000000  99867.000000  99866.000000  99870.000000   \n",
       "mean      -0.002404      4.306714      2.366517      0.013684     -0.016469   \n",
       "std        4.042530      1.140149      0.728027      7.766165      5.391990   \n",
       "min      -16.984482      0.000000      0.000000    -34.513401    -23.449782   \n",
       "25%       -2.732918      4.000000      2.000000     -5.233073     -3.642062   \n",
       "50%        0.000063      4.000000      2.000000      0.004569     -0.034581   \n",
       "75%        2.726788      5.000000      3.000000      5.273118      3.617453   \n",
       "max       20.186745      9.000000      5.000000     33.000825     23.296840   \n",
       "\n",
       "       ...          x116          x117          x118          x119  \\\n",
       "count  ...  99877.000000  99864.000000  99873.000000  99878.000000   \n",
       "mean   ...      0.038825     50.012697      0.577373      3.883003   \n",
       "std    ...      9.063181      6.892136      0.493980     10.795317   \n",
       "min    ...    -37.320446     21.000000      0.000000    -42.113882   \n",
       "25%    ...     -6.077436     45.000000      0.000000     -3.247750   \n",
       "50%    ...      0.044680     50.000000      1.000000      3.900552   \n",
       "75%    ...      6.144167     54.000000      1.000000     11.039607   \n",
       "max    ...     38.712294     80.000000      1.000000     57.003256   \n",
       "\n",
       "               x120          x121          x122          x123          x124  \\\n",
       "count  99880.000000  99871.000000  99873.000000  99870.000000  99877.000000   \n",
       "mean      -0.021634     -0.015191      7.594731     -0.012175      0.008854   \n",
       "std        5.571357      9.745984     35.358657      3.947540      4.128462   \n",
       "min      -23.512064    -43.961674   -165.068134    -17.229400    -16.394975   \n",
       "25%       -3.776839     -6.630953    -16.275026     -2.656104     -2.766022   \n",
       "50%       -0.018491     -0.025400      6.668708     -0.032674     -0.002028   \n",
       "75%        3.743165      6.594418     30.879552      2.638333      2.788782   \n",
       "max       25.927916     41.261627    174.645087     17.058603     17.921770   \n",
       "\n",
       "                   y  \n",
       "count  100000.000000  \n",
       "mean        0.169920  \n",
       "std         0.375564  \n",
       "min         0.000000  \n",
       "25%         0.000000  \n",
       "50%         0.000000  \n",
       "75%         0.000000  \n",
       "max         1.000000  \n",
       "\n",
       "[8 rows x 126 columns]"
      ]
     },
     "execution_count": 46,
     "metadata": {},
     "output_type": "execute_result"
    }
   ],
   "source": [
    "# Get the summary statistics of the given dataset\n",
    "df_train.describe()"
   ]
  },
  {
   "cell_type": "code",
   "execution_count": 47,
   "id": "b6b35a72",
   "metadata": {},
   "outputs": [
    {
     "data": {
      "text/html": [
       "<div>\n",
       "<style scoped>\n",
       "    .dataframe tbody tr th:only-of-type {\n",
       "        vertical-align: middle;\n",
       "    }\n",
       "\n",
       "    .dataframe tbody tr th {\n",
       "        vertical-align: top;\n",
       "    }\n",
       "\n",
       "    .dataframe thead th {\n",
       "        text-align: right;\n",
       "    }\n",
       "</style>\n",
       "<table border=\"1\" class=\"dataframe\">\n",
       "  <thead>\n",
       "    <tr style=\"text-align: right;\">\n",
       "      <th></th>\n",
       "      <th>x0</th>\n",
       "      <th>x1</th>\n",
       "      <th>x2</th>\n",
       "      <th>x3</th>\n",
       "      <th>x4</th>\n",
       "      <th>x5</th>\n",
       "      <th>x6</th>\n",
       "      <th>x7</th>\n",
       "      <th>x8</th>\n",
       "      <th>x9</th>\n",
       "      <th>...</th>\n",
       "      <th>x116</th>\n",
       "      <th>x117</th>\n",
       "      <th>x118</th>\n",
       "      <th>x119</th>\n",
       "      <th>x120</th>\n",
       "      <th>x121</th>\n",
       "      <th>x122</th>\n",
       "      <th>x123</th>\n",
       "      <th>x124</th>\n",
       "      <th>y</th>\n",
       "    </tr>\n",
       "  </thead>\n",
       "  <tbody>\n",
       "    <tr>\n",
       "      <th>count</th>\n",
       "      <td>84625.000000</td>\n",
       "      <td>84625.000000</td>\n",
       "      <td>84625.000000</td>\n",
       "      <td>84625.000000</td>\n",
       "      <td>84625.000000</td>\n",
       "      <td>84625.000000</td>\n",
       "      <td>84625.000000</td>\n",
       "      <td>84625.000000</td>\n",
       "      <td>84625.000000</td>\n",
       "      <td>84625.000000</td>\n",
       "      <td>...</td>\n",
       "      <td>84625.000000</td>\n",
       "      <td>84625.000000</td>\n",
       "      <td>84625.000000</td>\n",
       "      <td>84625.000000</td>\n",
       "      <td>84625.000000</td>\n",
       "      <td>84625.000000</td>\n",
       "      <td>84625.000000</td>\n",
       "      <td>84625.000000</td>\n",
       "      <td>84625.000000</td>\n",
       "      <td>84625.000000</td>\n",
       "    </tr>\n",
       "    <tr>\n",
       "      <th>mean</th>\n",
       "      <td>0.000134</td>\n",
       "      <td>-0.005367</td>\n",
       "      <td>0.012730</td>\n",
       "      <td>-0.000499</td>\n",
       "      <td>-0.679438</td>\n",
       "      <td>-0.000102</td>\n",
       "      <td>4.305855</td>\n",
       "      <td>2.367244</td>\n",
       "      <td>0.016531</td>\n",
       "      <td>-0.020500</td>\n",
       "      <td>...</td>\n",
       "      <td>0.051632</td>\n",
       "      <td>50.008815</td>\n",
       "      <td>0.577229</td>\n",
       "      <td>3.884232</td>\n",
       "      <td>-0.026894</td>\n",
       "      <td>0.008140</td>\n",
       "      <td>7.594259</td>\n",
       "      <td>-0.008721</td>\n",
       "      <td>0.006708</td>\n",
       "      <td>0.170021</td>\n",
       "    </tr>\n",
       "    <tr>\n",
       "      <th>std</th>\n",
       "      <td>0.424150</td>\n",
       "      <td>3.382031</td>\n",
       "      <td>3.089167</td>\n",
       "      <td>0.121762</td>\n",
       "      <td>2.562778</td>\n",
       "      <td>4.037325</td>\n",
       "      <td>1.139768</td>\n",
       "      <td>0.728401</td>\n",
       "      <td>7.777533</td>\n",
       "      <td>5.385425</td>\n",
       "      <td>...</td>\n",
       "      <td>9.064099</td>\n",
       "      <td>6.903307</td>\n",
       "      <td>0.494003</td>\n",
       "      <td>10.809025</td>\n",
       "      <td>5.576218</td>\n",
       "      <td>9.743352</td>\n",
       "      <td>35.432185</td>\n",
       "      <td>3.955279</td>\n",
       "      <td>4.132098</td>\n",
       "      <td>0.375653</td>\n",
       "    </tr>\n",
       "    <tr>\n",
       "      <th>min</th>\n",
       "      <td>-1.724571</td>\n",
       "      <td>-16.097070</td>\n",
       "      <td>-13.519334</td>\n",
       "      <td>-0.517647</td>\n",
       "      <td>-13.627396</td>\n",
       "      <td>-16.984482</td>\n",
       "      <td>0.000000</td>\n",
       "      <td>0.000000</td>\n",
       "      <td>-34.513401</td>\n",
       "      <td>-21.393586</td>\n",
       "      <td>...</td>\n",
       "      <td>-37.320446</td>\n",
       "      <td>22.000000</td>\n",
       "      <td>0.000000</td>\n",
       "      <td>-42.113882</td>\n",
       "      <td>-23.512064</td>\n",
       "      <td>-42.803538</td>\n",
       "      <td>-165.068134</td>\n",
       "      <td>-17.229400</td>\n",
       "      <td>-16.394975</td>\n",
       "      <td>0.000000</td>\n",
       "    </tr>\n",
       "    <tr>\n",
       "      <th>25%</th>\n",
       "      <td>-0.288439</td>\n",
       "      <td>-2.277408</td>\n",
       "      <td>-2.066637</td>\n",
       "      <td>-0.083161</td>\n",
       "      <td>-2.384102</td>\n",
       "      <td>-2.719394</td>\n",
       "      <td>4.000000</td>\n",
       "      <td>2.000000</td>\n",
       "      <td>-5.231273</td>\n",
       "      <td>-3.653562</td>\n",
       "      <td>...</td>\n",
       "      <td>-6.056929</td>\n",
       "      <td>45.000000</td>\n",
       "      <td>0.000000</td>\n",
       "      <td>-3.242579</td>\n",
       "      <td>-3.794949</td>\n",
       "      <td>-6.618319</td>\n",
       "      <td>-16.313432</td>\n",
       "      <td>-2.657868</td>\n",
       "      <td>-2.770613</td>\n",
       "      <td>0.000000</td>\n",
       "    </tr>\n",
       "    <tr>\n",
       "      <th>50%</th>\n",
       "      <td>-0.000575</td>\n",
       "      <td>0.015830</td>\n",
       "      <td>0.022342</td>\n",
       "      <td>-0.000690</td>\n",
       "      <td>-0.683342</td>\n",
       "      <td>0.008073</td>\n",
       "      <td>4.000000</td>\n",
       "      <td>2.000000</td>\n",
       "      <td>0.008370</td>\n",
       "      <td>-0.043343</td>\n",
       "      <td>...</td>\n",
       "      <td>0.046831</td>\n",
       "      <td>50.000000</td>\n",
       "      <td>1.000000</td>\n",
       "      <td>3.898811</td>\n",
       "      <td>-0.024713</td>\n",
       "      <td>-0.014172</td>\n",
       "      <td>6.669958</td>\n",
       "      <td>-0.028475</td>\n",
       "      <td>-0.008476</td>\n",
       "      <td>0.000000</td>\n",
       "    </tr>\n",
       "    <tr>\n",
       "      <th>75%</th>\n",
       "      <td>0.286555</td>\n",
       "      <td>2.282198</td>\n",
       "      <td>2.097138</td>\n",
       "      <td>0.081502</td>\n",
       "      <td>1.033504</td>\n",
       "      <td>2.719203</td>\n",
       "      <td>5.000000</td>\n",
       "      <td>3.000000</td>\n",
       "      <td>5.285481</td>\n",
       "      <td>3.603270</td>\n",
       "      <td>...</td>\n",
       "      <td>6.160476</td>\n",
       "      <td>54.000000</td>\n",
       "      <td>1.000000</td>\n",
       "      <td>11.038551</td>\n",
       "      <td>3.745235</td>\n",
       "      <td>6.652677</td>\n",
       "      <td>30.897783</td>\n",
       "      <td>2.646747</td>\n",
       "      <td>2.788143</td>\n",
       "      <td>0.000000</td>\n",
       "    </tr>\n",
       "    <tr>\n",
       "      <th>max</th>\n",
       "      <td>1.714387</td>\n",
       "      <td>14.768077</td>\n",
       "      <td>13.335437</td>\n",
       "      <td>0.513763</td>\n",
       "      <td>10.442234</td>\n",
       "      <td>20.186745</td>\n",
       "      <td>9.000000</td>\n",
       "      <td>5.000000</td>\n",
       "      <td>31.449940</td>\n",
       "      <td>23.296840</td>\n",
       "      <td>...</td>\n",
       "      <td>38.141106</td>\n",
       "      <td>80.000000</td>\n",
       "      <td>1.000000</td>\n",
       "      <td>57.003256</td>\n",
       "      <td>25.927916</td>\n",
       "      <td>41.261627</td>\n",
       "      <td>174.645087</td>\n",
       "      <td>17.058603</td>\n",
       "      <td>17.921770</td>\n",
       "      <td>1.000000</td>\n",
       "    </tr>\n",
       "  </tbody>\n",
       "</table>\n",
       "<p>8 rows × 126 columns</p>\n",
       "</div>"
      ],
      "text/plain": [
       "                 x0            x1            x2            x3            x4  \\\n",
       "count  84625.000000  84625.000000  84625.000000  84625.000000  84625.000000   \n",
       "mean       0.000134     -0.005367      0.012730     -0.000499     -0.679438   \n",
       "std        0.424150      3.382031      3.089167      0.121762      2.562778   \n",
       "min       -1.724571    -16.097070    -13.519334     -0.517647    -13.627396   \n",
       "25%       -0.288439     -2.277408     -2.066637     -0.083161     -2.384102   \n",
       "50%       -0.000575      0.015830      0.022342     -0.000690     -0.683342   \n",
       "75%        0.286555      2.282198      2.097138      0.081502      1.033504   \n",
       "max        1.714387     14.768077     13.335437      0.513763     10.442234   \n",
       "\n",
       "                 x5            x6            x7            x8            x9  \\\n",
       "count  84625.000000  84625.000000  84625.000000  84625.000000  84625.000000   \n",
       "mean      -0.000102      4.305855      2.367244      0.016531     -0.020500   \n",
       "std        4.037325      1.139768      0.728401      7.777533      5.385425   \n",
       "min      -16.984482      0.000000      0.000000    -34.513401    -21.393586   \n",
       "25%       -2.719394      4.000000      2.000000     -5.231273     -3.653562   \n",
       "50%        0.008073      4.000000      2.000000      0.008370     -0.043343   \n",
       "75%        2.719203      5.000000      3.000000      5.285481      3.603270   \n",
       "max       20.186745      9.000000      5.000000     31.449940     23.296840   \n",
       "\n",
       "       ...          x116          x117          x118          x119  \\\n",
       "count  ...  84625.000000  84625.000000  84625.000000  84625.000000   \n",
       "mean   ...      0.051632     50.008815      0.577229      3.884232   \n",
       "std    ...      9.064099      6.903307      0.494003     10.809025   \n",
       "min    ...    -37.320446     22.000000      0.000000    -42.113882   \n",
       "25%    ...     -6.056929     45.000000      0.000000     -3.242579   \n",
       "50%    ...      0.046831     50.000000      1.000000      3.898811   \n",
       "75%    ...      6.160476     54.000000      1.000000     11.038551   \n",
       "max    ...     38.141106     80.000000      1.000000     57.003256   \n",
       "\n",
       "               x120          x121          x122          x123          x124  \\\n",
       "count  84625.000000  84625.000000  84625.000000  84625.000000  84625.000000   \n",
       "mean      -0.026894      0.008140      7.594259     -0.008721      0.006708   \n",
       "std        5.576218      9.743352     35.432185      3.955279      4.132098   \n",
       "min      -23.512064    -42.803538   -165.068134    -17.229400    -16.394975   \n",
       "25%       -3.794949     -6.618319    -16.313432     -2.657868     -2.770613   \n",
       "50%       -0.024713     -0.014172      6.669958     -0.028475     -0.008476   \n",
       "75%        3.745235      6.652677     30.897783      2.646747      2.788143   \n",
       "max       25.927916     41.261627    174.645087     17.058603     17.921770   \n",
       "\n",
       "                  y  \n",
       "count  84625.000000  \n",
       "mean       0.170021  \n",
       "std        0.375653  \n",
       "min        0.000000  \n",
       "25%        0.000000  \n",
       "50%        0.000000  \n",
       "75%        0.000000  \n",
       "max        1.000000  \n",
       "\n",
       "[8 rows x 126 columns]"
      ]
     },
     "execution_count": 47,
     "metadata": {},
     "output_type": "execute_result"
    }
   ],
   "source": [
    "# Get the summary statistics of the given dataset (NaN dropped)\n",
    "df_train_nan_dropped.describe()"
   ]
  },
  {
   "cell_type": "markdown",
   "id": "e9cc347e",
   "metadata": {},
   "source": [
    "It can be seen the data with dropped nan values is reduced from 100,000 rows to 84,625 rows."
   ]
  },
  {
   "cell_type": "markdown",
   "id": "935b30b3",
   "metadata": {},
   "source": [
    "### 2.1. Correlation Coefficient"
   ]
  },
  {
   "cell_type": "code",
   "execution_count": 52,
   "id": "5ad1b901",
   "metadata": {},
   "outputs": [],
   "source": [
    "# NaN values not dropped\n",
    "df_train_corr = df_train.corr()"
   ]
  },
  {
   "cell_type": "code",
   "execution_count": 56,
   "id": "a74f313b",
   "metadata": {},
   "outputs": [
    {
     "data": {
      "text/html": [
       "<div>\n",
       "<style scoped>\n",
       "    .dataframe tbody tr th:only-of-type {\n",
       "        vertical-align: middle;\n",
       "    }\n",
       "\n",
       "    .dataframe tbody tr th {\n",
       "        vertical-align: top;\n",
       "    }\n",
       "\n",
       "    .dataframe thead th {\n",
       "        text-align: right;\n",
       "    }\n",
       "</style>\n",
       "<table border=\"1\" class=\"dataframe\">\n",
       "  <thead>\n",
       "    <tr style=\"text-align: right;\">\n",
       "      <th></th>\n",
       "      <th>x0</th>\n",
       "      <th>x1</th>\n",
       "      <th>x2</th>\n",
       "      <th>x3</th>\n",
       "      <th>x4</th>\n",
       "      <th>x5</th>\n",
       "      <th>x6</th>\n",
       "      <th>x7</th>\n",
       "      <th>x8</th>\n",
       "      <th>x9</th>\n",
       "      <th>...</th>\n",
       "      <th>x116</th>\n",
       "      <th>x117</th>\n",
       "      <th>x118</th>\n",
       "      <th>x119</th>\n",
       "      <th>x120</th>\n",
       "      <th>x121</th>\n",
       "      <th>x122</th>\n",
       "      <th>x123</th>\n",
       "      <th>x124</th>\n",
       "      <th>y</th>\n",
       "    </tr>\n",
       "  </thead>\n",
       "  <tbody>\n",
       "    <tr>\n",
       "      <th>x0</th>\n",
       "      <td>1.000000</td>\n",
       "      <td>-0.000851</td>\n",
       "      <td>-0.001769</td>\n",
       "      <td>-0.003981</td>\n",
       "      <td>0.004158</td>\n",
       "      <td>-0.002562</td>\n",
       "      <td>-0.002733</td>\n",
       "      <td>0.002988</td>\n",
       "      <td>-0.000337</td>\n",
       "      <td>0.005547</td>\n",
       "      <td>...</td>\n",
       "      <td>-0.002329</td>\n",
       "      <td>-0.001543</td>\n",
       "      <td>-0.001810</td>\n",
       "      <td>-0.000421</td>\n",
       "      <td>0.001778</td>\n",
       "      <td>0.000240</td>\n",
       "      <td>0.002149</td>\n",
       "      <td>0.003763</td>\n",
       "      <td>0.002547</td>\n",
       "      <td>-0.001644</td>\n",
       "    </tr>\n",
       "    <tr>\n",
       "      <th>x1</th>\n",
       "      <td>-0.000851</td>\n",
       "      <td>1.000000</td>\n",
       "      <td>-0.005267</td>\n",
       "      <td>0.000171</td>\n",
       "      <td>-0.001632</td>\n",
       "      <td>0.003393</td>\n",
       "      <td>0.003063</td>\n",
       "      <td>0.005959</td>\n",
       "      <td>-0.006401</td>\n",
       "      <td>-0.003348</td>\n",
       "      <td>...</td>\n",
       "      <td>0.000925</td>\n",
       "      <td>-0.001786</td>\n",
       "      <td>-0.002230</td>\n",
       "      <td>-0.000263</td>\n",
       "      <td>-0.000645</td>\n",
       "      <td>-0.006180</td>\n",
       "      <td>0.002637</td>\n",
       "      <td>-0.003784</td>\n",
       "      <td>0.001868</td>\n",
       "      <td>-0.002780</td>\n",
       "    </tr>\n",
       "    <tr>\n",
       "      <th>x2</th>\n",
       "      <td>-0.001769</td>\n",
       "      <td>-0.005267</td>\n",
       "      <td>1.000000</td>\n",
       "      <td>0.001796</td>\n",
       "      <td>-0.001360</td>\n",
       "      <td>0.000311</td>\n",
       "      <td>-0.002994</td>\n",
       "      <td>0.000408</td>\n",
       "      <td>0.004945</td>\n",
       "      <td>-0.000670</td>\n",
       "      <td>...</td>\n",
       "      <td>-0.000236</td>\n",
       "      <td>0.002983</td>\n",
       "      <td>-0.002159</td>\n",
       "      <td>-0.003031</td>\n",
       "      <td>-0.002310</td>\n",
       "      <td>-0.003096</td>\n",
       "      <td>0.003399</td>\n",
       "      <td>-0.002596</td>\n",
       "      <td>-0.001971</td>\n",
       "      <td>-0.000664</td>\n",
       "    </tr>\n",
       "    <tr>\n",
       "      <th>x3</th>\n",
       "      <td>-0.003981</td>\n",
       "      <td>0.000171</td>\n",
       "      <td>0.001796</td>\n",
       "      <td>1.000000</td>\n",
       "      <td>-0.000927</td>\n",
       "      <td>0.001838</td>\n",
       "      <td>-0.002631</td>\n",
       "      <td>0.001262</td>\n",
       "      <td>0.000837</td>\n",
       "      <td>0.003774</td>\n",
       "      <td>...</td>\n",
       "      <td>0.001051</td>\n",
       "      <td>0.001175</td>\n",
       "      <td>-0.003233</td>\n",
       "      <td>-0.002328</td>\n",
       "      <td>-0.002479</td>\n",
       "      <td>0.000531</td>\n",
       "      <td>0.002679</td>\n",
       "      <td>-0.003049</td>\n",
       "      <td>-0.003161</td>\n",
       "      <td>0.001639</td>\n",
       "    </tr>\n",
       "    <tr>\n",
       "      <th>x4</th>\n",
       "      <td>0.004158</td>\n",
       "      <td>-0.001632</td>\n",
       "      <td>-0.001360</td>\n",
       "      <td>-0.000927</td>\n",
       "      <td>1.000000</td>\n",
       "      <td>0.003981</td>\n",
       "      <td>-0.002251</td>\n",
       "      <td>-0.001737</td>\n",
       "      <td>0.002565</td>\n",
       "      <td>-0.001022</td>\n",
       "      <td>...</td>\n",
       "      <td>0.002183</td>\n",
       "      <td>-0.191762</td>\n",
       "      <td>0.280648</td>\n",
       "      <td>-0.155789</td>\n",
       "      <td>0.002526</td>\n",
       "      <td>0.001988</td>\n",
       "      <td>-0.019127</td>\n",
       "      <td>-0.001366</td>\n",
       "      <td>-0.004206</td>\n",
       "      <td>0.007267</td>\n",
       "    </tr>\n",
       "    <tr>\n",
       "      <th>...</th>\n",
       "      <td>...</td>\n",
       "      <td>...</td>\n",
       "      <td>...</td>\n",
       "      <td>...</td>\n",
       "      <td>...</td>\n",
       "      <td>...</td>\n",
       "      <td>...</td>\n",
       "      <td>...</td>\n",
       "      <td>...</td>\n",
       "      <td>...</td>\n",
       "      <td>...</td>\n",
       "      <td>...</td>\n",
       "      <td>...</td>\n",
       "      <td>...</td>\n",
       "      <td>...</td>\n",
       "      <td>...</td>\n",
       "      <td>...</td>\n",
       "      <td>...</td>\n",
       "      <td>...</td>\n",
       "      <td>...</td>\n",
       "      <td>...</td>\n",
       "    </tr>\n",
       "    <tr>\n",
       "      <th>x121</th>\n",
       "      <td>0.000240</td>\n",
       "      <td>-0.006180</td>\n",
       "      <td>-0.003096</td>\n",
       "      <td>0.000531</td>\n",
       "      <td>0.001988</td>\n",
       "      <td>-0.005344</td>\n",
       "      <td>-0.001901</td>\n",
       "      <td>-0.000597</td>\n",
       "      <td>-0.002660</td>\n",
       "      <td>-0.002376</td>\n",
       "      <td>...</td>\n",
       "      <td>-0.000291</td>\n",
       "      <td>0.003752</td>\n",
       "      <td>0.003308</td>\n",
       "      <td>0.000178</td>\n",
       "      <td>0.001130</td>\n",
       "      <td>1.000000</td>\n",
       "      <td>-0.004481</td>\n",
       "      <td>0.000072</td>\n",
       "      <td>-0.005440</td>\n",
       "      <td>-0.001313</td>\n",
       "    </tr>\n",
       "    <tr>\n",
       "      <th>x122</th>\n",
       "      <td>0.002149</td>\n",
       "      <td>0.002637</td>\n",
       "      <td>0.003399</td>\n",
       "      <td>0.002679</td>\n",
       "      <td>-0.019127</td>\n",
       "      <td>-0.003970</td>\n",
       "      <td>0.005172</td>\n",
       "      <td>0.000299</td>\n",
       "      <td>-0.002291</td>\n",
       "      <td>0.003621</td>\n",
       "      <td>...</td>\n",
       "      <td>0.002412</td>\n",
       "      <td>-0.607116</td>\n",
       "      <td>-0.059400</td>\n",
       "      <td>0.372855</td>\n",
       "      <td>-0.004688</td>\n",
       "      <td>-0.004481</td>\n",
       "      <td>1.000000</td>\n",
       "      <td>-0.007807</td>\n",
       "      <td>-0.003068</td>\n",
       "      <td>-0.041442</td>\n",
       "    </tr>\n",
       "    <tr>\n",
       "      <th>x123</th>\n",
       "      <td>0.003763</td>\n",
       "      <td>-0.003784</td>\n",
       "      <td>-0.002596</td>\n",
       "      <td>-0.003049</td>\n",
       "      <td>-0.001366</td>\n",
       "      <td>0.001125</td>\n",
       "      <td>0.000313</td>\n",
       "      <td>0.003072</td>\n",
       "      <td>-0.000046</td>\n",
       "      <td>0.001827</td>\n",
       "      <td>...</td>\n",
       "      <td>-0.007059</td>\n",
       "      <td>0.005614</td>\n",
       "      <td>0.002366</td>\n",
       "      <td>-0.001437</td>\n",
       "      <td>0.002980</td>\n",
       "      <td>0.000072</td>\n",
       "      <td>-0.007807</td>\n",
       "      <td>1.000000</td>\n",
       "      <td>0.004455</td>\n",
       "      <td>-0.000666</td>\n",
       "    </tr>\n",
       "    <tr>\n",
       "      <th>x124</th>\n",
       "      <td>0.002547</td>\n",
       "      <td>0.001868</td>\n",
       "      <td>-0.001971</td>\n",
       "      <td>-0.003161</td>\n",
       "      <td>-0.004206</td>\n",
       "      <td>-0.000228</td>\n",
       "      <td>0.002808</td>\n",
       "      <td>-0.003338</td>\n",
       "      <td>0.004651</td>\n",
       "      <td>0.001572</td>\n",
       "      <td>...</td>\n",
       "      <td>0.003675</td>\n",
       "      <td>0.004731</td>\n",
       "      <td>0.000946</td>\n",
       "      <td>0.001266</td>\n",
       "      <td>-0.000587</td>\n",
       "      <td>-0.005440</td>\n",
       "      <td>-0.003068</td>\n",
       "      <td>0.004455</td>\n",
       "      <td>1.000000</td>\n",
       "      <td>-0.002676</td>\n",
       "    </tr>\n",
       "    <tr>\n",
       "      <th>y</th>\n",
       "      <td>-0.001644</td>\n",
       "      <td>-0.002780</td>\n",
       "      <td>-0.000664</td>\n",
       "      <td>0.001639</td>\n",
       "      <td>0.007267</td>\n",
       "      <td>0.000705</td>\n",
       "      <td>-0.003780</td>\n",
       "      <td>-0.005546</td>\n",
       "      <td>-0.002241</td>\n",
       "      <td>-0.006534</td>\n",
       "      <td>...</td>\n",
       "      <td>-0.001443</td>\n",
       "      <td>0.052421</td>\n",
       "      <td>0.067032</td>\n",
       "      <td>-0.080113</td>\n",
       "      <td>0.002461</td>\n",
       "      <td>-0.001313</td>\n",
       "      <td>-0.041442</td>\n",
       "      <td>-0.000666</td>\n",
       "      <td>-0.002676</td>\n",
       "      <td>1.000000</td>\n",
       "    </tr>\n",
       "  </tbody>\n",
       "</table>\n",
       "<p>126 rows × 126 columns</p>\n",
       "</div>"
      ],
      "text/plain": [
       "            x0        x1        x2        x3        x4        x5        x6  \\\n",
       "x0    1.000000 -0.000851 -0.001769 -0.003981  0.004158 -0.002562 -0.002733   \n",
       "x1   -0.000851  1.000000 -0.005267  0.000171 -0.001632  0.003393  0.003063   \n",
       "x2   -0.001769 -0.005267  1.000000  0.001796 -0.001360  0.000311 -0.002994   \n",
       "x3   -0.003981  0.000171  0.001796  1.000000 -0.000927  0.001838 -0.002631   \n",
       "x4    0.004158 -0.001632 -0.001360 -0.000927  1.000000  0.003981 -0.002251   \n",
       "...        ...       ...       ...       ...       ...       ...       ...   \n",
       "x121  0.000240 -0.006180 -0.003096  0.000531  0.001988 -0.005344 -0.001901   \n",
       "x122  0.002149  0.002637  0.003399  0.002679 -0.019127 -0.003970  0.005172   \n",
       "x123  0.003763 -0.003784 -0.002596 -0.003049 -0.001366  0.001125  0.000313   \n",
       "x124  0.002547  0.001868 -0.001971 -0.003161 -0.004206 -0.000228  0.002808   \n",
       "y    -0.001644 -0.002780 -0.000664  0.001639  0.007267  0.000705 -0.003780   \n",
       "\n",
       "            x7        x8        x9  ...      x116      x117      x118  \\\n",
       "x0    0.002988 -0.000337  0.005547  ... -0.002329 -0.001543 -0.001810   \n",
       "x1    0.005959 -0.006401 -0.003348  ...  0.000925 -0.001786 -0.002230   \n",
       "x2    0.000408  0.004945 -0.000670  ... -0.000236  0.002983 -0.002159   \n",
       "x3    0.001262  0.000837  0.003774  ...  0.001051  0.001175 -0.003233   \n",
       "x4   -0.001737  0.002565 -0.001022  ...  0.002183 -0.191762  0.280648   \n",
       "...        ...       ...       ...  ...       ...       ...       ...   \n",
       "x121 -0.000597 -0.002660 -0.002376  ... -0.000291  0.003752  0.003308   \n",
       "x122  0.000299 -0.002291  0.003621  ...  0.002412 -0.607116 -0.059400   \n",
       "x123  0.003072 -0.000046  0.001827  ... -0.007059  0.005614  0.002366   \n",
       "x124 -0.003338  0.004651  0.001572  ...  0.003675  0.004731  0.000946   \n",
       "y    -0.005546 -0.002241 -0.006534  ... -0.001443  0.052421  0.067032   \n",
       "\n",
       "          x119      x120      x121      x122      x123      x124         y  \n",
       "x0   -0.000421  0.001778  0.000240  0.002149  0.003763  0.002547 -0.001644  \n",
       "x1   -0.000263 -0.000645 -0.006180  0.002637 -0.003784  0.001868 -0.002780  \n",
       "x2   -0.003031 -0.002310 -0.003096  0.003399 -0.002596 -0.001971 -0.000664  \n",
       "x3   -0.002328 -0.002479  0.000531  0.002679 -0.003049 -0.003161  0.001639  \n",
       "x4   -0.155789  0.002526  0.001988 -0.019127 -0.001366 -0.004206  0.007267  \n",
       "...        ...       ...       ...       ...       ...       ...       ...  \n",
       "x121  0.000178  0.001130  1.000000 -0.004481  0.000072 -0.005440 -0.001313  \n",
       "x122  0.372855 -0.004688 -0.004481  1.000000 -0.007807 -0.003068 -0.041442  \n",
       "x123 -0.001437  0.002980  0.000072 -0.007807  1.000000  0.004455 -0.000666  \n",
       "x124  0.001266 -0.000587 -0.005440 -0.003068  0.004455  1.000000 -0.002676  \n",
       "y    -0.080113  0.002461 -0.001313 -0.041442 -0.000666 -0.002676  1.000000  \n",
       "\n",
       "[126 rows x 126 columns]"
      ]
     },
     "execution_count": 56,
     "metadata": {},
     "output_type": "execute_result"
    }
   ],
   "source": [
    "df_train_corr"
   ]
  },
  {
   "cell_type": "code",
   "execution_count": 57,
   "id": "eba88037",
   "metadata": {},
   "outputs": [
    {
     "data": {
      "text/plain": [
       "pandas.core.frame.DataFrame"
      ]
     },
     "execution_count": 57,
     "metadata": {},
     "output_type": "execute_result"
    }
   ],
   "source": [
    "type(df_train_corr)"
   ]
  },
  {
   "cell_type": "code",
   "execution_count": 59,
   "id": "6e985976",
   "metadata": {},
   "outputs": [
    {
     "data": {
      "text/plain": [
       "pandas.core.series.Series"
      ]
     },
     "execution_count": 59,
     "metadata": {},
     "output_type": "execute_result"
    }
   ],
   "source": [
    "df_train_corr_to_y = df_train_corr['y']\n",
    "# type(df_train_corr_to_y)"
   ]
  },
  {
   "cell_type": "markdown",
   "id": "7e8dd759",
   "metadata": {},
   "source": [
    "#### 2.1.1 Get variables with strong correlation with target variable y (strong positive and strong negative)"
   ]
  },
  {
   "cell_type": "markdown",
   "id": "d8fa0dcd",
   "metadata": {},
   "source": [
    "Strong negative correlation"
   ]
  },
  {
   "cell_type": "code",
   "execution_count": 64,
   "id": "8fe56e2d",
   "metadata": {},
   "outputs": [
    {
     "data": {
      "text/plain": [
       "x57    -0.128242\n",
       "x41    -0.120998\n",
       "x60    -0.113804\n",
       "x44    -0.097781\n",
       "x105   -0.094995\n",
       "x67    -0.083999\n",
       "x119   -0.080113\n",
       "x61    -0.075836\n",
       "x13    -0.072913\n",
       "x62    -0.069361\n",
       "x59    -0.064507\n",
       "x72    -0.057125\n",
       "x122   -0.041442\n",
       "x107   -0.026857\n",
       "x19    -0.020853\n",
       "x82    -0.017467\n",
       "x29    -0.010689\n",
       "x12    -0.009049\n",
       "x32    -0.006683\n",
       "x9     -0.006534\n",
       "Name: y, dtype: float64"
      ]
     },
     "execution_count": 64,
     "metadata": {},
     "output_type": "execute_result"
    }
   ],
   "source": [
    "df_train_corr_to_y_asc = df_train_corr_to_y.sort_values(ascending=True)\n",
    "df_train_corr_to_y_asc.head(20)"
   ]
  },
  {
   "cell_type": "code",
   "execution_count": 83,
   "id": "f5d3b10d",
   "metadata": {},
   "outputs": [],
   "source": [
    "strong_negative = ['x57','x41','x60','x44','x105','x67','x119','x61','x13','x62','x59','x72','x122','x107','x19','x82','x29']"
   ]
  },
  {
   "cell_type": "markdown",
   "id": "4ef81293",
   "metadata": {},
   "source": [
    "Strong positive correlation"
   ]
  },
  {
   "cell_type": "code",
   "execution_count": 84,
   "id": "6046bd58",
   "metadata": {},
   "outputs": [
    {
     "data": {
      "text/plain": [
       "y       1.000000\n",
       "x17     0.136983\n",
       "x106    0.113577\n",
       "x92     0.085921\n",
       "x91     0.078085\n",
       "x28     0.068710\n",
       "x46     0.067976\n",
       "x118    0.067032\n",
       "x96     0.065964\n",
       "x104    0.061336\n",
       "x117    0.052421\n",
       "x65     0.051633\n",
       "x75     0.043178\n",
       "x45     0.043160\n",
       "x35     0.041194\n",
       "x103    0.039896\n",
       "x39     0.033654\n",
       "x15     0.030245\n",
       "x50     0.012614\n",
       "x71     0.011542\n",
       "x73     0.010830\n",
       "x31     0.010344\n",
       "x64     0.007614\n",
       "x4      0.007267\n",
       "Name: y, dtype: float64"
      ]
     },
     "execution_count": 84,
     "metadata": {},
     "output_type": "execute_result"
    }
   ],
   "source": [
    "df_train_corr_to_y_dsc = df_train_corr_to_y.sort_values(ascending=False)\n",
    "df_train_corr_to_y_dsc.head(24)"
   ]
  },
  {
   "cell_type": "code",
   "execution_count": 91,
   "id": "07a6ba56",
   "metadata": {},
   "outputs": [],
   "source": [
    "strong_positive = ['x17','x106','x92','x91','x28','x46','x118','x96','x104','x117','x65','x75','x45','x35','x103','x39','x15','x50','x71','x73','x31']"
   ]
  },
  {
   "cell_type": "markdown",
   "id": "7fdd4830",
   "metadata": {},
   "source": [
    "Later in this notebook, during model building, using only independent variables with strong positive and negative correlation will be included in the experiment."
   ]
  },
  {
   "cell_type": "markdown",
   "id": "35375a61",
   "metadata": {},
   "source": [
    "## 3. Modeling\n",
    "The ML algorithm that will be used in this case is XGBoost.\n",
    "\n",
    "<p><strong>XGBoost - Extreme Gradient Boosting</strong></p>\n",
    "XGBoost is the optimized version of Gradient Boosting algorithm through parallel processing (i.e., tree building) and tree pruning using depth-first approach. XGBoost is also able to handle missing values and regularization in order to avoid overfitting/bias. It also has an in-built cross-validation capability.\n",
    "\n",
    "List of experiments:\n",
    "\n",
    "1. Without resampling and with tuning\n",
    "2. SMOTE oversampled (use test set with dropped nan values)\n",
    "3. ADASYN oversampled (use test set with dropped nan values)\n",
    "4. RandomUnderSampler undersampled (use test set with dropped nan values)\n",
    "5. Dropped features with correlation coefficient >-0.01 and <0.01, without resampling\n",
    "\n",
    "Then, to the best model in terms of accuracy, hyperparameter tuning will be performed to find the best combination of parameters."
   ]
  },
  {
   "cell_type": "markdown",
   "id": "a696028c",
   "metadata": {},
   "source": [
    "### 3.1. Without resampling"
   ]
  },
  {
   "cell_type": "code",
   "execution_count": 74,
   "id": "0db7a1cc",
   "metadata": {},
   "outputs": [],
   "source": [
    "from xgboost import XGBClassifier"
   ]
  },
  {
   "cell_type": "code",
   "execution_count": 75,
   "id": "16b53fc9",
   "metadata": {},
   "outputs": [
    {
     "name": "stdout",
     "output_type": "stream",
     "text": [
      "The accuracy of the model is 88.6%\n"
     ]
    }
   ],
   "source": [
    "# fit model no training data\n",
    "xgb_1 = XGBClassifier()\n",
    "xgb_1.fit(X_train, y_train)\n",
    "\n",
    "# Prediction\n",
    "y_pred_1 = xgb_1.predict(X_test)\n",
    "\n",
    "# Evaluation - accuracy\n",
    "accuracy_1 = accuracy_score(y_test,y_pred_1)\n",
    "print(f\"The accuracy of the model is {round(accuracy_1,3)*100}%\")"
   ]
  },
  {
   "cell_type": "markdown",
   "id": "77b22221",
   "metadata": {},
   "source": [
    "### 3.2. SMOTE oversampled"
   ]
  },
  {
   "cell_type": "code",
   "execution_count": 76,
   "id": "f4101c07",
   "metadata": {},
   "outputs": [
    {
     "name": "stdout",
     "output_type": "stream",
     "text": [
      "The accuracy of the model is 88.2%\n"
     ]
    }
   ],
   "source": [
    "xgb_smote = XGBClassifier()\n",
    "xgb_smote.fit(X_train_smote, y_train_smote)\n",
    "\n",
    "# Prediction\n",
    "y_pred_smote = xgb_smote.predict(X_test_nan_dropped)\n",
    "\n",
    "# Evaluation - accuracy\n",
    "accuracy_smote = accuracy_score(y_test_nan_dropped,y_pred_smote)\n",
    "print(f\"The accuracy of the model is {round(accuracy_smote,3)*100}%\")"
   ]
  },
  {
   "cell_type": "markdown",
   "id": "67b6e59c",
   "metadata": {},
   "source": [
    "### 3.3. ADASYN oversampled"
   ]
  },
  {
   "cell_type": "code",
   "execution_count": 77,
   "id": "39383673",
   "metadata": {},
   "outputs": [
    {
     "name": "stdout",
     "output_type": "stream",
     "text": [
      "The accuracy of the model is 88.2%\n"
     ]
    }
   ],
   "source": [
    "xgb_ada = XGBClassifier(random_state=0)\n",
    "xgb_ada.fit(X_train_ada, y_train_ada)\n",
    "\n",
    "# Prediction\n",
    "y_pred_ada = xgb_smote.predict(X_test_nan_dropped)\n",
    "\n",
    "# Evaluation - accuracy\n",
    "accuracy_ada = accuracy_score(y_test_nan_dropped,y_pred_ada)\n",
    "print(f\"The accuracy of the model is {round(accuracy_ada,3)*100}%\")"
   ]
  },
  {
   "cell_type": "markdown",
   "id": "7dd15482",
   "metadata": {},
   "source": [
    "### 3.4. RandomUnderSampler undersampled"
   ]
  },
  {
   "cell_type": "code",
   "execution_count": 78,
   "id": "a7217cc3",
   "metadata": {},
   "outputs": [
    {
     "name": "stdout",
     "output_type": "stream",
     "text": [
      "The accuracy of the model is 76.0%\n"
     ]
    }
   ],
   "source": [
    "xgb_rus = XGBClassifier(random_state=0)\n",
    "xgb_rus.fit(X_train_rus, y_train_rus)\n",
    "\n",
    "# Prediction\n",
    "y_pred_rus = xgb_rus.predict(X_test_nan_dropped)\n",
    "\n",
    "# Evaluation - accuracy\n",
    "accuracy_rus = accuracy_score(y_test_nan_dropped,y_pred_rus)\n",
    "print(f\"The accuracy of the model is {round(accuracy_rus,3)*100}%\")"
   ]
  },
  {
   "cell_type": "markdown",
   "id": "fbffa5cc",
   "metadata": {},
   "source": [
    "### 3.5. Dropped features with weak correlations"
   ]
  },
  {
   "cell_type": "code",
   "execution_count": 92,
   "id": "f14365ae",
   "metadata": {},
   "outputs": [
    {
     "data": {
      "text/plain": [
       "['x57',\n",
       " 'x41',\n",
       " 'x60',\n",
       " 'x44',\n",
       " 'x105',\n",
       " 'x67',\n",
       " 'x119',\n",
       " 'x61',\n",
       " 'x13',\n",
       " 'x62',\n",
       " 'x59',\n",
       " 'x72',\n",
       " 'x122',\n",
       " 'x107',\n",
       " 'x19',\n",
       " 'x82',\n",
       " 'x29']"
      ]
     },
     "execution_count": 92,
     "metadata": {},
     "output_type": "execute_result"
    }
   ],
   "source": [
    "# Attributes with strong negative correlations to y\n",
    "strong_negative"
   ]
  },
  {
   "cell_type": "code",
   "execution_count": 93,
   "id": "0cc0706d",
   "metadata": {},
   "outputs": [
    {
     "data": {
      "text/plain": [
       "['x17',\n",
       " 'x106',\n",
       " 'x92',\n",
       " 'x91',\n",
       " 'x28',\n",
       " 'x46',\n",
       " 'x118',\n",
       " 'x96',\n",
       " 'x104',\n",
       " 'x117',\n",
       " 'x65',\n",
       " 'x75',\n",
       " 'x45',\n",
       " 'x35',\n",
       " 'x103',\n",
       " 'x39',\n",
       " 'x15',\n",
       " 'x50',\n",
       " 'x71',\n",
       " 'x73',\n",
       " 'x31']"
      ]
     },
     "execution_count": 93,
     "metadata": {},
     "output_type": "execute_result"
    }
   ],
   "source": [
    "# Attributes with strong positive correlations to y\n",
    "strong_positive"
   ]
  },
  {
   "cell_type": "code",
   "execution_count": 100,
   "id": "62e52561",
   "metadata": {},
   "outputs": [
    {
     "data": {
      "text/plain": [
       "['x57',\n",
       " 'x41',\n",
       " 'x60',\n",
       " 'x44',\n",
       " 'x105',\n",
       " 'x67',\n",
       " 'x119',\n",
       " 'x61',\n",
       " 'x13',\n",
       " 'x62',\n",
       " 'x59',\n",
       " 'x72',\n",
       " 'x122',\n",
       " 'x107',\n",
       " 'x19',\n",
       " 'x82',\n",
       " 'x29',\n",
       " 'x17',\n",
       " 'x106',\n",
       " 'x92',\n",
       " 'x91',\n",
       " 'x28',\n",
       " 'x46',\n",
       " 'x118',\n",
       " 'x96',\n",
       " 'x104',\n",
       " 'x117',\n",
       " 'x65',\n",
       " 'x75',\n",
       " 'x45',\n",
       " 'x35',\n",
       " 'x103',\n",
       " 'x39',\n",
       " 'x15',\n",
       " 'x50',\n",
       " 'x71',\n",
       " 'x73',\n",
       " 'x31',\n",
       " 'y']"
      ]
     },
     "execution_count": 100,
     "metadata": {},
     "output_type": "execute_result"
    }
   ],
   "source": [
    "strong_correlations = strong_negative+strong_positive\n",
    "strong_correlations.append('y')\n",
    "strong_correlations"
   ]
  },
  {
   "cell_type": "code",
   "execution_count": 101,
   "id": "b48de36c",
   "metadata": {},
   "outputs": [],
   "source": [
    "# Create a copy dataset with only the above attributes\n",
    "df_train_sc = df_train[:]\n",
    "df_train_sc = df_train_sc[strong_correlations]\n",
    "df_test_sc = df_test[:]\n",
    "df_test_sc = df_test_sc[strong_correlations]"
   ]
  },
  {
   "cell_type": "code",
   "execution_count": 102,
   "id": "dbfcc106",
   "metadata": {},
   "outputs": [
    {
     "data": {
      "text/html": [
       "<div>\n",
       "<style scoped>\n",
       "    .dataframe tbody tr th:only-of-type {\n",
       "        vertical-align: middle;\n",
       "    }\n",
       "\n",
       "    .dataframe tbody tr th {\n",
       "        vertical-align: top;\n",
       "    }\n",
       "\n",
       "    .dataframe thead th {\n",
       "        text-align: right;\n",
       "    }\n",
       "</style>\n",
       "<table border=\"1\" class=\"dataframe\">\n",
       "  <thead>\n",
       "    <tr style=\"text-align: right;\">\n",
       "      <th></th>\n",
       "      <th>x57</th>\n",
       "      <th>x41</th>\n",
       "      <th>x60</th>\n",
       "      <th>x44</th>\n",
       "      <th>x105</th>\n",
       "      <th>x67</th>\n",
       "      <th>x119</th>\n",
       "      <th>x61</th>\n",
       "      <th>x13</th>\n",
       "      <th>x62</th>\n",
       "      <th>...</th>\n",
       "      <th>x45</th>\n",
       "      <th>x35</th>\n",
       "      <th>x103</th>\n",
       "      <th>x39</th>\n",
       "      <th>x15</th>\n",
       "      <th>x50</th>\n",
       "      <th>x71</th>\n",
       "      <th>x73</th>\n",
       "      <th>x31</th>\n",
       "      <th>y</th>\n",
       "    </tr>\n",
       "  </thead>\n",
       "  <tbody>\n",
       "    <tr>\n",
       "      <th>0</th>\n",
       "      <td>-0.395665</td>\n",
       "      <td>21.860965</td>\n",
       "      <td>-23.431641</td>\n",
       "      <td>16.179453</td>\n",
       "      <td>36.329967</td>\n",
       "      <td>-58.953416</td>\n",
       "      <td>0.773809</td>\n",
       "      <td>13.751744</td>\n",
       "      <td>-8.340786</td>\n",
       "      <td>-26.500714</td>\n",
       "      <td>...</td>\n",
       "      <td>39.545280</td>\n",
       "      <td>11.068075</td>\n",
       "      <td>0.514885</td>\n",
       "      <td>-7.450657</td>\n",
       "      <td>-19.878081</td>\n",
       "      <td>-55.922397</td>\n",
       "      <td>19.563718</td>\n",
       "      <td>32.209681</td>\n",
       "      <td>-27.698764</td>\n",
       "      <td>0</td>\n",
       "    </tr>\n",
       "    <tr>\n",
       "      <th>1</th>\n",
       "      <td>-0.362896</td>\n",
       "      <td>18.327611</td>\n",
       "      <td>1.183948</td>\n",
       "      <td>-34.864322</td>\n",
       "      <td>-13.448378</td>\n",
       "      <td>74.633579</td>\n",
       "      <td>7.065852</td>\n",
       "      <td>-9.282450</td>\n",
       "      <td>-5.618335</td>\n",
       "      <td>19.474037</td>\n",
       "      <td>...</td>\n",
       "      <td>-4.474592</td>\n",
       "      <td>-13.186784</td>\n",
       "      <td>-1.845015</td>\n",
       "      <td>-0.962187</td>\n",
       "      <td>3.481345</td>\n",
       "      <td>46.166641</td>\n",
       "      <td>-10.319307</td>\n",
       "      <td>21.524979</td>\n",
       "      <td>7.889010</td>\n",
       "      <td>0</td>\n",
       "    </tr>\n",
       "    <tr>\n",
       "      <th>2</th>\n",
       "      <td>-1.473236</td>\n",
       "      <td>6.898550</td>\n",
       "      <td>-2.325219</td>\n",
       "      <td>24.095527</td>\n",
       "      <td>-25.670791</td>\n",
       "      <td>52.444828</td>\n",
       "      <td>-8.598553</td>\n",
       "      <td>-7.472724</td>\n",
       "      <td>-3.618850</td>\n",
       "      <td>19.527319</td>\n",
       "      <td>...</td>\n",
       "      <td>-6.703214</td>\n",
       "      <td>-10.201114</td>\n",
       "      <td>-0.850936</td>\n",
       "      <td>-17.172271</td>\n",
       "      <td>3.771034</td>\n",
       "      <td>27.729470</td>\n",
       "      <td>-14.488131</td>\n",
       "      <td>-6.662494</td>\n",
       "      <td>11.004250</td>\n",
       "      <td>0</td>\n",
       "    </tr>\n",
       "    <tr>\n",
       "      <th>3</th>\n",
       "      <td>5.478409</td>\n",
       "      <td>14.613527</td>\n",
       "      <td>6.255019</td>\n",
       "      <td>-50.442312</td>\n",
       "      <td>4.057570</td>\n",
       "      <td>7.447102</td>\n",
       "      <td>8.194975</td>\n",
       "      <td>12.480775</td>\n",
       "      <td>-2.399277</td>\n",
       "      <td>-25.743925</td>\n",
       "      <td>...</td>\n",
       "      <td>11.822118</td>\n",
       "      <td>3.699499</td>\n",
       "      <td>-1.124832</td>\n",
       "      <td>7.610184</td>\n",
       "      <td>-0.142621</td>\n",
       "      <td>-1.268939</td>\n",
       "      <td>37.358118</td>\n",
       "      <td>58.099294</td>\n",
       "      <td>-33.151758</td>\n",
       "      <td>0</td>\n",
       "    </tr>\n",
       "    <tr>\n",
       "      <th>4</th>\n",
       "      <td>5.247766</td>\n",
       "      <td>-16.016833</td>\n",
       "      <td>1.628471</td>\n",
       "      <td>47.675250</td>\n",
       "      <td>45.817767</td>\n",
       "      <td>-26.552274</td>\n",
       "      <td>2.330789</td>\n",
       "      <td>11.202072</td>\n",
       "      <td>-1.973822</td>\n",
       "      <td>-2.409916</td>\n",
       "      <td>...</td>\n",
       "      <td>4.629616</td>\n",
       "      <td>8.813286</td>\n",
       "      <td>-0.404615</td>\n",
       "      <td>5.343754</td>\n",
       "      <td>-1.235130</td>\n",
       "      <td>14.594703</td>\n",
       "      <td>23.074105</td>\n",
       "      <td>47.049903</td>\n",
       "      <td>-12.489286</td>\n",
       "      <td>1</td>\n",
       "    </tr>\n",
       "  </tbody>\n",
       "</table>\n",
       "<p>5 rows × 39 columns</p>\n",
       "</div>"
      ],
      "text/plain": [
       "        x57        x41        x60        x44       x105        x67      x119  \\\n",
       "0 -0.395665  21.860965 -23.431641  16.179453  36.329967 -58.953416  0.773809   \n",
       "1 -0.362896  18.327611   1.183948 -34.864322 -13.448378  74.633579  7.065852   \n",
       "2 -1.473236   6.898550  -2.325219  24.095527 -25.670791  52.444828 -8.598553   \n",
       "3  5.478409  14.613527   6.255019 -50.442312   4.057570   7.447102  8.194975   \n",
       "4  5.247766 -16.016833   1.628471  47.675250  45.817767 -26.552274  2.330789   \n",
       "\n",
       "         x61       x13        x62  ...        x45        x35      x103  \\\n",
       "0  13.751744 -8.340786 -26.500714  ...  39.545280  11.068075  0.514885   \n",
       "1  -9.282450 -5.618335  19.474037  ...  -4.474592 -13.186784 -1.845015   \n",
       "2  -7.472724 -3.618850  19.527319  ...  -6.703214 -10.201114 -0.850936   \n",
       "3  12.480775 -2.399277 -25.743925  ...  11.822118   3.699499 -1.124832   \n",
       "4  11.202072 -1.973822  -2.409916  ...   4.629616   8.813286 -0.404615   \n",
       "\n",
       "         x39        x15        x50        x71        x73        x31  y  \n",
       "0  -7.450657 -19.878081 -55.922397  19.563718  32.209681 -27.698764  0  \n",
       "1  -0.962187   3.481345  46.166641 -10.319307  21.524979   7.889010  0  \n",
       "2 -17.172271   3.771034  27.729470 -14.488131  -6.662494  11.004250  0  \n",
       "3   7.610184  -0.142621  -1.268939  37.358118  58.099294 -33.151758  0  \n",
       "4   5.343754  -1.235130  14.594703  23.074105  47.049903 -12.489286  1  \n",
       "\n",
       "[5 rows x 39 columns]"
      ]
     },
     "execution_count": 102,
     "metadata": {},
     "output_type": "execute_result"
    }
   ],
   "source": [
    "df_train_sc.head()"
   ]
  },
  {
   "cell_type": "code",
   "execution_count": 103,
   "id": "7c50dbad",
   "metadata": {},
   "outputs": [
    {
     "data": {
      "text/html": [
       "<div>\n",
       "<style scoped>\n",
       "    .dataframe tbody tr th:only-of-type {\n",
       "        vertical-align: middle;\n",
       "    }\n",
       "\n",
       "    .dataframe tbody tr th {\n",
       "        vertical-align: top;\n",
       "    }\n",
       "\n",
       "    .dataframe thead th {\n",
       "        text-align: right;\n",
       "    }\n",
       "</style>\n",
       "<table border=\"1\" class=\"dataframe\">\n",
       "  <thead>\n",
       "    <tr style=\"text-align: right;\">\n",
       "      <th></th>\n",
       "      <th>x57</th>\n",
       "      <th>x41</th>\n",
       "      <th>x60</th>\n",
       "      <th>x44</th>\n",
       "      <th>x105</th>\n",
       "      <th>x67</th>\n",
       "      <th>x119</th>\n",
       "      <th>x61</th>\n",
       "      <th>x13</th>\n",
       "      <th>x62</th>\n",
       "      <th>...</th>\n",
       "      <th>x45</th>\n",
       "      <th>x35</th>\n",
       "      <th>x103</th>\n",
       "      <th>x39</th>\n",
       "      <th>x15</th>\n",
       "      <th>x50</th>\n",
       "      <th>x71</th>\n",
       "      <th>x73</th>\n",
       "      <th>x31</th>\n",
       "      <th>y</th>\n",
       "    </tr>\n",
       "  </thead>\n",
       "  <tbody>\n",
       "    <tr>\n",
       "      <th>0</th>\n",
       "      <td>0.259909</td>\n",
       "      <td>13.055414</td>\n",
       "      <td>-14.315786</td>\n",
       "      <td>-38.643101</td>\n",
       "      <td>25.630266</td>\n",
       "      <td>58.568901</td>\n",
       "      <td>-9.897690</td>\n",
       "      <td>-14.132548</td>\n",
       "      <td>4.959509</td>\n",
       "      <td>48.656974</td>\n",
       "      <td>...</td>\n",
       "      <td>-51.054889</td>\n",
       "      <td>0.044943</td>\n",
       "      <td>-4.374817</td>\n",
       "      <td>16.140605</td>\n",
       "      <td>-2.030356</td>\n",
       "      <td>70.957171</td>\n",
       "      <td>6.621634</td>\n",
       "      <td>4.653935</td>\n",
       "      <td>44.933636</td>\n",
       "      <td>0</td>\n",
       "    </tr>\n",
       "    <tr>\n",
       "      <th>1</th>\n",
       "      <td>-4.918258</td>\n",
       "      <td>-3.085948</td>\n",
       "      <td>0.160628</td>\n",
       "      <td>-12.443104</td>\n",
       "      <td>42.942199</td>\n",
       "      <td>-7.136370</td>\n",
       "      <td>7.781887</td>\n",
       "      <td>-0.786236</td>\n",
       "      <td>-2.020895</td>\n",
       "      <td>12.591929</td>\n",
       "      <td>...</td>\n",
       "      <td>22.933258</td>\n",
       "      <td>-1.752173</td>\n",
       "      <td>0.252021</td>\n",
       "      <td>9.891922</td>\n",
       "      <td>-9.165506</td>\n",
       "      <td>-6.377254</td>\n",
       "      <td>-23.748115</td>\n",
       "      <td>-0.305002</td>\n",
       "      <td>24.533511</td>\n",
       "      <td>0</td>\n",
       "    </tr>\n",
       "    <tr>\n",
       "      <th>2</th>\n",
       "      <td>4.480739</td>\n",
       "      <td>-5.210111</td>\n",
       "      <td>20.649833</td>\n",
       "      <td>31.204872</td>\n",
       "      <td>-1.026669</td>\n",
       "      <td>38.793240</td>\n",
       "      <td>6.815214</td>\n",
       "      <td>-1.297034</td>\n",
       "      <td>6.498108</td>\n",
       "      <td>4.741591</td>\n",
       "      <td>...</td>\n",
       "      <td>-8.547329</td>\n",
       "      <td>-0.216140</td>\n",
       "      <td>-2.128526</td>\n",
       "      <td>-20.987141</td>\n",
       "      <td>9.434490</td>\n",
       "      <td>2.802802</td>\n",
       "      <td>-24.668008</td>\n",
       "      <td>21.679257</td>\n",
       "      <td>-7.476300</td>\n",
       "      <td>0</td>\n",
       "    </tr>\n",
       "    <tr>\n",
       "      <th>3</th>\n",
       "      <td>10.065273</td>\n",
       "      <td>60.515760</td>\n",
       "      <td>55.892023</td>\n",
       "      <td>-2.648475</td>\n",
       "      <td>85.185923</td>\n",
       "      <td>40.321194</td>\n",
       "      <td>3.158137</td>\n",
       "      <td>31.886691</td>\n",
       "      <td>12.038212</td>\n",
       "      <td>17.060105</td>\n",
       "      <td>...</td>\n",
       "      <td>22.486305</td>\n",
       "      <td>3.462986</td>\n",
       "      <td>3.969886</td>\n",
       "      <td>-9.520847</td>\n",
       "      <td>-12.081526</td>\n",
       "      <td>-1.136188</td>\n",
       "      <td>-21.293066</td>\n",
       "      <td>14.382409</td>\n",
       "      <td>26.038436</td>\n",
       "      <td>0</td>\n",
       "    </tr>\n",
       "    <tr>\n",
       "      <th>4</th>\n",
       "      <td>2.221712</td>\n",
       "      <td>-49.429186</td>\n",
       "      <td>-23.720409</td>\n",
       "      <td>35.199209</td>\n",
       "      <td>-2.742862</td>\n",
       "      <td>-52.903473</td>\n",
       "      <td>-3.867657</td>\n",
       "      <td>5.032388</td>\n",
       "      <td>5.525227</td>\n",
       "      <td>-8.704657</td>\n",
       "      <td>...</td>\n",
       "      <td>-38.270309</td>\n",
       "      <td>13.566662</td>\n",
       "      <td>2.115363</td>\n",
       "      <td>20.445398</td>\n",
       "      <td>-0.723274</td>\n",
       "      <td>64.575428</td>\n",
       "      <td>54.881302</td>\n",
       "      <td>2.176974</td>\n",
       "      <td>1.656484</td>\n",
       "      <td>0</td>\n",
       "    </tr>\n",
       "    <tr>\n",
       "      <th>5</th>\n",
       "      <td>-1.573296</td>\n",
       "      <td>-54.207520</td>\n",
       "      <td>-13.298627</td>\n",
       "      <td>61.153183</td>\n",
       "      <td>40.806962</td>\n",
       "      <td>-16.649762</td>\n",
       "      <td>2.512500</td>\n",
       "      <td>-8.352572</td>\n",
       "      <td>4.375033</td>\n",
       "      <td>56.577148</td>\n",
       "      <td>...</td>\n",
       "      <td>-38.722231</td>\n",
       "      <td>8.095999</td>\n",
       "      <td>-2.589531</td>\n",
       "      <td>19.825293</td>\n",
       "      <td>2.514180</td>\n",
       "      <td>96.374311</td>\n",
       "      <td>-52.646575</td>\n",
       "      <td>-19.855371</td>\n",
       "      <td>37.152902</td>\n",
       "      <td>1</td>\n",
       "    </tr>\n",
       "    <tr>\n",
       "      <th>6</th>\n",
       "      <td>1.264067</td>\n",
       "      <td>-31.415760</td>\n",
       "      <td>-14.204266</td>\n",
       "      <td>-38.582393</td>\n",
       "      <td>2.053739</td>\n",
       "      <td>0.839982</td>\n",
       "      <td>-6.453662</td>\n",
       "      <td>-11.628646</td>\n",
       "      <td>-2.122468</td>\n",
       "      <td>-23.850243</td>\n",
       "      <td>...</td>\n",
       "      <td>-14.885580</td>\n",
       "      <td>7.759992</td>\n",
       "      <td>2.211927</td>\n",
       "      <td>0.417666</td>\n",
       "      <td>2.695669</td>\n",
       "      <td>24.008443</td>\n",
       "      <td>63.401788</td>\n",
       "      <td>55.775852</td>\n",
       "      <td>20.444293</td>\n",
       "      <td>1</td>\n",
       "    </tr>\n",
       "    <tr>\n",
       "      <th>7</th>\n",
       "      <td>-6.163186</td>\n",
       "      <td>9.041720</td>\n",
       "      <td>-12.258371</td>\n",
       "      <td>-37.583716</td>\n",
       "      <td>-58.085827</td>\n",
       "      <td>47.075475</td>\n",
       "      <td>6.235511</td>\n",
       "      <td>-10.868620</td>\n",
       "      <td>-8.394505</td>\n",
       "      <td>33.790714</td>\n",
       "      <td>...</td>\n",
       "      <td>0.943897</td>\n",
       "      <td>-17.215546</td>\n",
       "      <td>-2.334406</td>\n",
       "      <td>6.531753</td>\n",
       "      <td>3.381380</td>\n",
       "      <td>82.600231</td>\n",
       "      <td>-44.264648</td>\n",
       "      <td>-45.984839</td>\n",
       "      <td>-1.072960</td>\n",
       "      <td>0</td>\n",
       "    </tr>\n",
       "    <tr>\n",
       "      <th>8</th>\n",
       "      <td>-4.166338</td>\n",
       "      <td>-36.640211</td>\n",
       "      <td>1.752627</td>\n",
       "      <td>-25.495612</td>\n",
       "      <td>-21.559009</td>\n",
       "      <td>-55.832402</td>\n",
       "      <td>-2.424945</td>\n",
       "      <td>10.755499</td>\n",
       "      <td>1.507899</td>\n",
       "      <td>-23.464339</td>\n",
       "      <td>...</td>\n",
       "      <td>35.364796</td>\n",
       "      <td>3.089724</td>\n",
       "      <td>-0.898622</td>\n",
       "      <td>21.964271</td>\n",
       "      <td>4.042090</td>\n",
       "      <td>-28.975374</td>\n",
       "      <td>4.951003</td>\n",
       "      <td>11.122772</td>\n",
       "      <td>-27.483886</td>\n",
       "      <td>1</td>\n",
       "    </tr>\n",
       "    <tr>\n",
       "      <th>9</th>\n",
       "      <td>3.277016</td>\n",
       "      <td>38.108368</td>\n",
       "      <td>8.625983</td>\n",
       "      <td>25.744151</td>\n",
       "      <td>22.272007</td>\n",
       "      <td>40.094550</td>\n",
       "      <td>14.437596</td>\n",
       "      <td>-14.814127</td>\n",
       "      <td>2.851070</td>\n",
       "      <td>33.685441</td>\n",
       "      <td>...</td>\n",
       "      <td>-60.450034</td>\n",
       "      <td>-11.217944</td>\n",
       "      <td>-1.993447</td>\n",
       "      <td>11.398218</td>\n",
       "      <td>4.412487</td>\n",
       "      <td>2.972844</td>\n",
       "      <td>-3.222132</td>\n",
       "      <td>-60.719663</td>\n",
       "      <td>15.600088</td>\n",
       "      <td>0</td>\n",
       "    </tr>\n",
       "  </tbody>\n",
       "</table>\n",
       "<p>10 rows × 39 columns</p>\n",
       "</div>"
      ],
      "text/plain": [
       "         x57        x41        x60        x44       x105        x67  \\\n",
       "0   0.259909  13.055414 -14.315786 -38.643101  25.630266  58.568901   \n",
       "1  -4.918258  -3.085948   0.160628 -12.443104  42.942199  -7.136370   \n",
       "2   4.480739  -5.210111  20.649833  31.204872  -1.026669  38.793240   \n",
       "3  10.065273  60.515760  55.892023  -2.648475  85.185923  40.321194   \n",
       "4   2.221712 -49.429186 -23.720409  35.199209  -2.742862 -52.903473   \n",
       "5  -1.573296 -54.207520 -13.298627  61.153183  40.806962 -16.649762   \n",
       "6   1.264067 -31.415760 -14.204266 -38.582393   2.053739   0.839982   \n",
       "7  -6.163186   9.041720 -12.258371 -37.583716 -58.085827  47.075475   \n",
       "8  -4.166338 -36.640211   1.752627 -25.495612 -21.559009 -55.832402   \n",
       "9   3.277016  38.108368   8.625983  25.744151  22.272007  40.094550   \n",
       "\n",
       "        x119        x61        x13        x62  ...        x45        x35  \\\n",
       "0  -9.897690 -14.132548   4.959509  48.656974  ... -51.054889   0.044943   \n",
       "1   7.781887  -0.786236  -2.020895  12.591929  ...  22.933258  -1.752173   \n",
       "2   6.815214  -1.297034   6.498108   4.741591  ...  -8.547329  -0.216140   \n",
       "3   3.158137  31.886691  12.038212  17.060105  ...  22.486305   3.462986   \n",
       "4  -3.867657   5.032388   5.525227  -8.704657  ... -38.270309  13.566662   \n",
       "5   2.512500  -8.352572   4.375033  56.577148  ... -38.722231   8.095999   \n",
       "6  -6.453662 -11.628646  -2.122468 -23.850243  ... -14.885580   7.759992   \n",
       "7   6.235511 -10.868620  -8.394505  33.790714  ...   0.943897 -17.215546   \n",
       "8  -2.424945  10.755499   1.507899 -23.464339  ...  35.364796   3.089724   \n",
       "9  14.437596 -14.814127   2.851070  33.685441  ... -60.450034 -11.217944   \n",
       "\n",
       "       x103        x39        x15        x50        x71        x73        x31  \\\n",
       "0 -4.374817  16.140605  -2.030356  70.957171   6.621634   4.653935  44.933636   \n",
       "1  0.252021   9.891922  -9.165506  -6.377254 -23.748115  -0.305002  24.533511   \n",
       "2 -2.128526 -20.987141   9.434490   2.802802 -24.668008  21.679257  -7.476300   \n",
       "3  3.969886  -9.520847 -12.081526  -1.136188 -21.293066  14.382409  26.038436   \n",
       "4  2.115363  20.445398  -0.723274  64.575428  54.881302   2.176974   1.656484   \n",
       "5 -2.589531  19.825293   2.514180  96.374311 -52.646575 -19.855371  37.152902   \n",
       "6  2.211927   0.417666   2.695669  24.008443  63.401788  55.775852  20.444293   \n",
       "7 -2.334406   6.531753   3.381380  82.600231 -44.264648 -45.984839  -1.072960   \n",
       "8 -0.898622  21.964271   4.042090 -28.975374   4.951003  11.122772 -27.483886   \n",
       "9 -1.993447  11.398218   4.412487   2.972844  -3.222132 -60.719663  15.600088   \n",
       "\n",
       "   y  \n",
       "0  0  \n",
       "1  0  \n",
       "2  0  \n",
       "3  0  \n",
       "4  0  \n",
       "5  1  \n",
       "6  1  \n",
       "7  0  \n",
       "8  1  \n",
       "9  0  \n",
       "\n",
       "[10 rows x 39 columns]"
      ]
     },
     "execution_count": 103,
     "metadata": {},
     "output_type": "execute_result"
    }
   ],
   "source": [
    "df_test_sc.head(10)"
   ]
  },
  {
   "cell_type": "code",
   "execution_count": 106,
   "id": "8ab2a150",
   "metadata": {},
   "outputs": [],
   "source": [
    "# Splitting the resulted dataset to X and y\n",
    "sc_features = strong_negative + strong_positive\n",
    "X_train_sc = df_train_sc[sc_features].values\n",
    "y_train_sc = df_train_sc['y'].values.flatten()\n",
    "X_test_sc = df_test_sc[sc_features].values\n",
    "y_test_sc = df_test_sc['y'].values.flatten()"
   ]
  },
  {
   "cell_type": "code",
   "execution_count": 110,
   "id": "ee15f7b8",
   "metadata": {},
   "outputs": [
    {
     "name": "stdout",
     "output_type": "stream",
     "text": [
      "The accuracy of the model is 88.8%\n"
     ]
    }
   ],
   "source": [
    "# Model\n",
    "xgb_sc = XGBClassifier(random_state=0)\n",
    "xgb_sc.fit(X_train_sc, y_train_sc)\n",
    "\n",
    "# Prediction\n",
    "y_pred_sc = xgb_sc.predict(X_test_sc)\n",
    "\n",
    "# Evaluation - accuracy\n",
    "accuracy_sc = accuracy_score(y_test_sc,y_pred_sc)\n",
    "print(f\"The accuracy of the model is {round(accuracy_sc,3)*100}%\")"
   ]
  },
  {
   "cell_type": "markdown",
   "id": "9a2c857a",
   "metadata": {},
   "source": [
    "### 3.6. Dropped features with weak correlation to y and with hyperparameter tuning"
   ]
  },
  {
   "cell_type": "markdown",
   "id": "a8e9eda4",
   "metadata": {},
   "source": [
    "#### 3.6.1 Intuitively"
   ]
  },
  {
   "cell_type": "code",
   "execution_count": 126,
   "id": "dfe6c288",
   "metadata": {},
   "outputs": [
    {
     "name": "stdout",
     "output_type": "stream",
     "text": [
      "The accuracy of the model is 88.6%\n"
     ]
    }
   ],
   "source": [
    "xgb_sc_tuned_1 = XGBClassifier(random_state=0,max_depth=5,n_estimators=100,learning_rate=0.3,subsample=0.6,gamma=0.8,reg_lambda=1.2,alpha=0.2)\n",
    "xgb_sc_tuned_1.fit(X_train_sc, y_train_sc)\n",
    "\n",
    "# Prediction\n",
    "y_pred_sc_tuned_1 = xgb_sc_tuned_1.predict(X_test_sc)\n",
    "\n",
    "# Evaluation - accuracy\n",
    "accuracy_sc_tuned_1 = accuracy_score(y_test_sc,y_pred_sc_tuned_1)\n",
    "print(f\"The accuracy of the model is {round(accuracy_sc_tuned_1,3)*100}%\")"
   ]
  },
  {
   "cell_type": "code",
   "execution_count": 131,
   "id": "7eff8707",
   "metadata": {},
   "outputs": [
    {
     "name": "stdout",
     "output_type": "stream",
     "text": [
      "The accuracy of the model is 88.8%\n"
     ]
    }
   ],
   "source": [
    "xgb_sc_tuned_2 = XGBClassifier(random_state=0,max_depth=5,n_estimators=500,learning_rate=0.3,subsample=0.6,gamma=0.8,reg_lambda=1.2,alpha=0.2)\n",
    "xgb_sc_tuned_2.fit(X_train_sc, y_train_sc)\n",
    "\n",
    "# Prediction\n",
    "y_pred_sc_tuned_2 = xgb_sc_tuned_2.predict(X_test_sc)\n",
    "\n",
    "# Evaluation - accuracy\n",
    "accuracy_sc_tuned_2 = accuracy_score(y_test_sc,y_pred_sc_tuned_2)\n",
    "print(f\"The accuracy of the model is {round(accuracy_sc_tuned_2,3)*100}%\")"
   ]
  },
  {
   "cell_type": "code",
   "execution_count": 187,
   "id": "0ee7a355",
   "metadata": {},
   "outputs": [
    {
     "name": "stdout",
     "output_type": "stream",
     "text": [
      "Class=0, n=20696 (82.784%)\n",
      "Class=1, n=4304 (17.216%)\n"
     ]
    },
    {
     "data": {
      "image/png": "[encoded data removed]",
      "text/plain": [
       "<Figure size 432x288 with 1 Axes>"
      ]
     },
     "metadata": {
      "needs_background": "light"
     },
     "output_type": "display_data"
    }
   ],
   "source": [
    "# Test data: Is it balance?\n",
    "counter = Counter(y_test)\n",
    "plt.bar(counter.keys(), counter.values())\n",
    "for k, v in counter.items():\n",
    "    dist = v/len(y_test) * 100\n",
    "    print(f\"Class={k}, n={v} ({dist}%)\")"
   ]
  },
  {
   "cell_type": "markdown",
   "id": "95fcb6bb",
   "metadata": {},
   "source": [
    "#### 3.6.2. GridSearch"
   ]
  },
  {
   "cell_type": "code",
   "execution_count": 118,
   "id": "e0f4f9ed",
   "metadata": {},
   "outputs": [],
   "source": [
    "from sklearn.model_selection import GridSearchCV"
   ]
  },
  {
   "cell_type": "code",
   "execution_count": 119,
   "id": "852fccd1",
   "metadata": {},
   "outputs": [
    {
     "name": "stdout",
     "output_type": "stream",
     "text": [
      "Fitting 5 folds for each of 108 candidates, totalling 540 fits\n"
     ]
    },
    {
     "ename": "KeyboardInterrupt",
     "evalue": "",
     "output_type": "error",
     "traceback": [
      "\u001b[0;31m---------------------------------------------------------------------------\u001b[0m",
      "\u001b[0;31mKeyboardInterrupt\u001b[0m                         Traceback (most recent call last)",
      "Input \u001b[0;32mIn [119]\u001b[0m, in \u001b[0;36m<module>\u001b[0;34m\u001b[0m\n\u001b[1;32m      8\u001b[0m xgb_estimator \u001b[38;5;241m=\u001b[39m XGBClassifier(random_state\u001b[38;5;241m=\u001b[39m\u001b[38;5;241m0\u001b[39m)\n\u001b[1;32m      9\u001b[0m grid_search \u001b[38;5;241m=\u001b[39m GridSearchCV(estimator\u001b[38;5;241m=\u001b[39mxgb_estimator, \n\u001b[1;32m     10\u001b[0m                    param_grid\u001b[38;5;241m=\u001b[39mparams,\n\u001b[1;32m     11\u001b[0m                    scoring\u001b[38;5;241m=\u001b[39m\u001b[38;5;124m'\u001b[39m\u001b[38;5;124maccuracy\u001b[39m\u001b[38;5;124m'\u001b[39m, \n\u001b[1;32m     12\u001b[0m                    verbose\u001b[38;5;241m=\u001b[39m\u001b[38;5;241m1\u001b[39m)\n\u001b[0;32m---> 14\u001b[0m grid_result \u001b[38;5;241m=\u001b[39m \u001b[43mgrid_search\u001b[49m\u001b[38;5;241;43m.\u001b[39;49m\u001b[43mfit\u001b[49m\u001b[43m(\u001b[49m\u001b[43mX_train_sc\u001b[49m\u001b[43m,\u001b[49m\u001b[43m \u001b[49m\u001b[43my_train_sc\u001b[49m\u001b[43m)\u001b[49m\n\u001b[1;32m     15\u001b[0m \u001b[38;5;28mprint\u001b[39m(\u001b[38;5;124m\"\u001b[39m\u001b[38;5;124mBest parameters:\u001b[39m\u001b[38;5;124m\"\u001b[39m, grid_result\u001b[38;5;241m.\u001b[39mbest_params_)\n\u001b[1;32m     16\u001b[0m \u001b[38;5;28mprint\u001b[39m(\u001b[38;5;124m\"\u001b[39m\u001b[38;5;124mBest Accuracy: \u001b[39m\u001b[38;5;124m\"\u001b[39m, (grid_result\u001b[38;5;241m.\u001b[39mbest_score_))\n",
      "File \u001b[0;32m/Library/Frameworks/Python.framework/Versions/3.9/lib/python3.9/site-packages/sklearn/model_selection/_search.py:891\u001b[0m, in \u001b[0;36mBaseSearchCV.fit\u001b[0;34m(self, X, y, groups, **fit_params)\u001b[0m\n\u001b[1;32m    885\u001b[0m     results \u001b[38;5;241m=\u001b[39m \u001b[38;5;28mself\u001b[39m\u001b[38;5;241m.\u001b[39m_format_results(\n\u001b[1;32m    886\u001b[0m         all_candidate_params, n_splits, all_out, all_more_results\n\u001b[1;32m    887\u001b[0m     )\n\u001b[1;32m    889\u001b[0m     \u001b[38;5;28;01mreturn\u001b[39;00m results\n\u001b[0;32m--> 891\u001b[0m \u001b[38;5;28;43mself\u001b[39;49m\u001b[38;5;241;43m.\u001b[39;49m\u001b[43m_run_search\u001b[49m\u001b[43m(\u001b[49m\u001b[43mevaluate_candidates\u001b[49m\u001b[43m)\u001b[49m\n\u001b[1;32m    893\u001b[0m \u001b[38;5;66;03m# multimetric is determined here because in the case of a callable\u001b[39;00m\n\u001b[1;32m    894\u001b[0m \u001b[38;5;66;03m# self.scoring the return type is only known after calling\u001b[39;00m\n\u001b[1;32m    895\u001b[0m first_test_score \u001b[38;5;241m=\u001b[39m all_out[\u001b[38;5;241m0\u001b[39m][\u001b[38;5;124m\"\u001b[39m\u001b[38;5;124mtest_scores\u001b[39m\u001b[38;5;124m\"\u001b[39m]\n",
      "File \u001b[0;32m/Library/Frameworks/Python.framework/Versions/3.9/lib/python3.9/site-packages/sklearn/model_selection/_search.py:1392\u001b[0m, in \u001b[0;36mGridSearchCV._run_search\u001b[0;34m(self, evaluate_candidates)\u001b[0m\n\u001b[1;32m   1390\u001b[0m \u001b[38;5;28;01mdef\u001b[39;00m \u001b[38;5;21m_run_search\u001b[39m(\u001b[38;5;28mself\u001b[39m, evaluate_candidates):\n\u001b[1;32m   1391\u001b[0m     \u001b[38;5;124;03m\"\"\"Search all candidates in param_grid\"\"\"\u001b[39;00m\n\u001b[0;32m-> 1392\u001b[0m     \u001b[43mevaluate_candidates\u001b[49m\u001b[43m(\u001b[49m\u001b[43mParameterGrid\u001b[49m\u001b[43m(\u001b[49m\u001b[38;5;28;43mself\u001b[39;49m\u001b[38;5;241;43m.\u001b[39;49m\u001b[43mparam_grid\u001b[49m\u001b[43m)\u001b[49m\u001b[43m)\u001b[49m\n",
      "File \u001b[0;32m/Library/Frameworks/Python.framework/Versions/3.9/lib/python3.9/site-packages/sklearn/model_selection/_search.py:838\u001b[0m, in \u001b[0;36mBaseSearchCV.fit.<locals>.evaluate_candidates\u001b[0;34m(candidate_params, cv, more_results)\u001b[0m\n\u001b[1;32m    830\u001b[0m \u001b[38;5;28;01mif\u001b[39;00m \u001b[38;5;28mself\u001b[39m\u001b[38;5;241m.\u001b[39mverbose \u001b[38;5;241m>\u001b[39m \u001b[38;5;241m0\u001b[39m:\n\u001b[1;32m    831\u001b[0m     \u001b[38;5;28mprint\u001b[39m(\n\u001b[1;32m    832\u001b[0m         \u001b[38;5;124m\"\u001b[39m\u001b[38;5;124mFitting \u001b[39m\u001b[38;5;132;01m{0}\u001b[39;00m\u001b[38;5;124m folds for each of \u001b[39m\u001b[38;5;132;01m{1}\u001b[39;00m\u001b[38;5;124m candidates,\u001b[39m\u001b[38;5;124m\"\u001b[39m\n\u001b[1;32m    833\u001b[0m         \u001b[38;5;124m\"\u001b[39m\u001b[38;5;124m totalling \u001b[39m\u001b[38;5;132;01m{2}\u001b[39;00m\u001b[38;5;124m fits\u001b[39m\u001b[38;5;124m\"\u001b[39m\u001b[38;5;241m.\u001b[39mformat(\n\u001b[1;32m    834\u001b[0m             n_splits, n_candidates, n_candidates \u001b[38;5;241m*\u001b[39m n_splits\n\u001b[1;32m    835\u001b[0m         )\n\u001b[1;32m    836\u001b[0m     )\n\u001b[0;32m--> 838\u001b[0m out \u001b[38;5;241m=\u001b[39m \u001b[43mparallel\u001b[49m\u001b[43m(\u001b[49m\n\u001b[1;32m    839\u001b[0m \u001b[43m    \u001b[49m\u001b[43mdelayed\u001b[49m\u001b[43m(\u001b[49m\u001b[43m_fit_and_score\u001b[49m\u001b[43m)\u001b[49m\u001b[43m(\u001b[49m\n\u001b[1;32m    840\u001b[0m \u001b[43m        \u001b[49m\u001b[43mclone\u001b[49m\u001b[43m(\u001b[49m\u001b[43mbase_estimator\u001b[49m\u001b[43m)\u001b[49m\u001b[43m,\u001b[49m\n\u001b[1;32m    841\u001b[0m \u001b[43m        \u001b[49m\u001b[43mX\u001b[49m\u001b[43m,\u001b[49m\n\u001b[1;32m    842\u001b[0m \u001b[43m        \u001b[49m\u001b[43my\u001b[49m\u001b[43m,\u001b[49m\n\u001b[1;32m    843\u001b[0m \u001b[43m        \u001b[49m\u001b[43mtrain\u001b[49m\u001b[38;5;241;43m=\u001b[39;49m\u001b[43mtrain\u001b[49m\u001b[43m,\u001b[49m\n\u001b[1;32m    844\u001b[0m \u001b[43m        \u001b[49m\u001b[43mtest\u001b[49m\u001b[38;5;241;43m=\u001b[39;49m\u001b[43mtest\u001b[49m\u001b[43m,\u001b[49m\n\u001b[1;32m    845\u001b[0m \u001b[43m        \u001b[49m\u001b[43mparameters\u001b[49m\u001b[38;5;241;43m=\u001b[39;49m\u001b[43mparameters\u001b[49m\u001b[43m,\u001b[49m\n\u001b[1;32m    846\u001b[0m \u001b[43m        \u001b[49m\u001b[43msplit_progress\u001b[49m\u001b[38;5;241;43m=\u001b[39;49m\u001b[43m(\u001b[49m\u001b[43msplit_idx\u001b[49m\u001b[43m,\u001b[49m\u001b[43m \u001b[49m\u001b[43mn_splits\u001b[49m\u001b[43m)\u001b[49m\u001b[43m,\u001b[49m\n\u001b[1;32m    847\u001b[0m \u001b[43m        \u001b[49m\u001b[43mcandidate_progress\u001b[49m\u001b[38;5;241;43m=\u001b[39;49m\u001b[43m(\u001b[49m\u001b[43mcand_idx\u001b[49m\u001b[43m,\u001b[49m\u001b[43m \u001b[49m\u001b[43mn_candidates\u001b[49m\u001b[43m)\u001b[49m\u001b[43m,\u001b[49m\n\u001b[1;32m    848\u001b[0m \u001b[43m        \u001b[49m\u001b[38;5;241;43m*\u001b[39;49m\u001b[38;5;241;43m*\u001b[39;49m\u001b[43mfit_and_score_kwargs\u001b[49m\u001b[43m,\u001b[49m\n\u001b[1;32m    849\u001b[0m \u001b[43m    \u001b[49m\u001b[43m)\u001b[49m\n\u001b[1;32m    850\u001b[0m \u001b[43m    \u001b[49m\u001b[38;5;28;43;01mfor\u001b[39;49;00m\u001b[43m \u001b[49m\u001b[43m(\u001b[49m\u001b[43mcand_idx\u001b[49m\u001b[43m,\u001b[49m\u001b[43m \u001b[49m\u001b[43mparameters\u001b[49m\u001b[43m)\u001b[49m\u001b[43m,\u001b[49m\u001b[43m \u001b[49m\u001b[43m(\u001b[49m\u001b[43msplit_idx\u001b[49m\u001b[43m,\u001b[49m\u001b[43m \u001b[49m\u001b[43m(\u001b[49m\u001b[43mtrain\u001b[49m\u001b[43m,\u001b[49m\u001b[43m \u001b[49m\u001b[43mtest\u001b[49m\u001b[43m)\u001b[49m\u001b[43m)\u001b[49m\u001b[43m \u001b[49m\u001b[38;5;129;43;01min\u001b[39;49;00m\u001b[43m \u001b[49m\u001b[43mproduct\u001b[49m\u001b[43m(\u001b[49m\n\u001b[1;32m    851\u001b[0m \u001b[43m        \u001b[49m\u001b[38;5;28;43menumerate\u001b[39;49m\u001b[43m(\u001b[49m\u001b[43mcandidate_params\u001b[49m\u001b[43m)\u001b[49m\u001b[43m,\u001b[49m\u001b[43m \u001b[49m\u001b[38;5;28;43menumerate\u001b[39;49m\u001b[43m(\u001b[49m\u001b[43mcv\u001b[49m\u001b[38;5;241;43m.\u001b[39;49m\u001b[43msplit\u001b[49m\u001b[43m(\u001b[49m\u001b[43mX\u001b[49m\u001b[43m,\u001b[49m\u001b[43m \u001b[49m\u001b[43my\u001b[49m\u001b[43m,\u001b[49m\u001b[43m \u001b[49m\u001b[43mgroups\u001b[49m\u001b[43m)\u001b[49m\u001b[43m)\u001b[49m\n\u001b[1;32m    852\u001b[0m \u001b[43m    \u001b[49m\u001b[43m)\u001b[49m\n\u001b[1;32m    853\u001b[0m \u001b[43m\u001b[49m\u001b[43m)\u001b[49m\n\u001b[1;32m    855\u001b[0m \u001b[38;5;28;01mif\u001b[39;00m \u001b[38;5;28mlen\u001b[39m(out) \u001b[38;5;241m<\u001b[39m \u001b[38;5;241m1\u001b[39m:\n\u001b[1;32m    856\u001b[0m     \u001b[38;5;28;01mraise\u001b[39;00m \u001b[38;5;167;01mValueError\u001b[39;00m(\n\u001b[1;32m    857\u001b[0m         \u001b[38;5;124m\"\u001b[39m\u001b[38;5;124mNo fits were performed. \u001b[39m\u001b[38;5;124m\"\u001b[39m\n\u001b[1;32m    858\u001b[0m         \u001b[38;5;124m\"\u001b[39m\u001b[38;5;124mWas the CV iterator empty? \u001b[39m\u001b[38;5;124m\"\u001b[39m\n\u001b[1;32m    859\u001b[0m         \u001b[38;5;124m\"\u001b[39m\u001b[38;5;124mWere there no candidates?\u001b[39m\u001b[38;5;124m\"\u001b[39m\n\u001b[1;32m    860\u001b[0m     )\n",
      "File \u001b[0;32m/Library/Frameworks/Python.framework/Versions/3.9/lib/python3.9/site-packages/joblib/parallel.py:1046\u001b[0m, in \u001b[0;36mParallel.__call__\u001b[0;34m(self, iterable)\u001b[0m\n\u001b[1;32m   1043\u001b[0m \u001b[38;5;28;01mif\u001b[39;00m \u001b[38;5;28mself\u001b[39m\u001b[38;5;241m.\u001b[39mdispatch_one_batch(iterator):\n\u001b[1;32m   1044\u001b[0m     \u001b[38;5;28mself\u001b[39m\u001b[38;5;241m.\u001b[39m_iterating \u001b[38;5;241m=\u001b[39m \u001b[38;5;28mself\u001b[39m\u001b[38;5;241m.\u001b[39m_original_iterator \u001b[38;5;129;01mis\u001b[39;00m \u001b[38;5;129;01mnot\u001b[39;00m \u001b[38;5;28;01mNone\u001b[39;00m\n\u001b[0;32m-> 1046\u001b[0m \u001b[38;5;28;01mwhile\u001b[39;00m \u001b[38;5;28;43mself\u001b[39;49m\u001b[38;5;241;43m.\u001b[39;49m\u001b[43mdispatch_one_batch\u001b[49m\u001b[43m(\u001b[49m\u001b[43miterator\u001b[49m\u001b[43m)\u001b[49m:\n\u001b[1;32m   1047\u001b[0m     \u001b[38;5;28;01mpass\u001b[39;00m\n\u001b[1;32m   1049\u001b[0m \u001b[38;5;28;01mif\u001b[39;00m pre_dispatch \u001b[38;5;241m==\u001b[39m \u001b[38;5;124m\"\u001b[39m\u001b[38;5;124mall\u001b[39m\u001b[38;5;124m\"\u001b[39m \u001b[38;5;129;01mor\u001b[39;00m n_jobs \u001b[38;5;241m==\u001b[39m \u001b[38;5;241m1\u001b[39m:\n\u001b[1;32m   1050\u001b[0m     \u001b[38;5;66;03m# The iterable was consumed all at once by the above for loop.\u001b[39;00m\n\u001b[1;32m   1051\u001b[0m     \u001b[38;5;66;03m# No need to wait for async callbacks to trigger to\u001b[39;00m\n\u001b[1;32m   1052\u001b[0m     \u001b[38;5;66;03m# consumption.\u001b[39;00m\n",
      "File \u001b[0;32m/Library/Frameworks/Python.framework/Versions/3.9/lib/python3.9/site-packages/joblib/parallel.py:861\u001b[0m, in \u001b[0;36mParallel.dispatch_one_batch\u001b[0;34m(self, iterator)\u001b[0m\n\u001b[1;32m    859\u001b[0m     \u001b[38;5;28;01mreturn\u001b[39;00m \u001b[38;5;28;01mFalse\u001b[39;00m\n\u001b[1;32m    860\u001b[0m \u001b[38;5;28;01melse\u001b[39;00m:\n\u001b[0;32m--> 861\u001b[0m     \u001b[38;5;28;43mself\u001b[39;49m\u001b[38;5;241;43m.\u001b[39;49m\u001b[43m_dispatch\u001b[49m\u001b[43m(\u001b[49m\u001b[43mtasks\u001b[49m\u001b[43m)\u001b[49m\n\u001b[1;32m    862\u001b[0m     \u001b[38;5;28;01mreturn\u001b[39;00m \u001b[38;5;28;01mTrue\u001b[39;00m\n",
      "File \u001b[0;32m/Library/Frameworks/Python.framework/Versions/3.9/lib/python3.9/site-packages/joblib/parallel.py:779\u001b[0m, in \u001b[0;36mParallel._dispatch\u001b[0;34m(self, batch)\u001b[0m\n\u001b[1;32m    777\u001b[0m \u001b[38;5;28;01mwith\u001b[39;00m \u001b[38;5;28mself\u001b[39m\u001b[38;5;241m.\u001b[39m_lock:\n\u001b[1;32m    778\u001b[0m     job_idx \u001b[38;5;241m=\u001b[39m \u001b[38;5;28mlen\u001b[39m(\u001b[38;5;28mself\u001b[39m\u001b[38;5;241m.\u001b[39m_jobs)\n\u001b[0;32m--> 779\u001b[0m     job \u001b[38;5;241m=\u001b[39m \u001b[38;5;28;43mself\u001b[39;49m\u001b[38;5;241;43m.\u001b[39;49m\u001b[43m_backend\u001b[49m\u001b[38;5;241;43m.\u001b[39;49m\u001b[43mapply_async\u001b[49m\u001b[43m(\u001b[49m\u001b[43mbatch\u001b[49m\u001b[43m,\u001b[49m\u001b[43m \u001b[49m\u001b[43mcallback\u001b[49m\u001b[38;5;241;43m=\u001b[39;49m\u001b[43mcb\u001b[49m\u001b[43m)\u001b[49m\n\u001b[1;32m    780\u001b[0m     \u001b[38;5;66;03m# A job can complete so quickly than its callback is\u001b[39;00m\n\u001b[1;32m    781\u001b[0m     \u001b[38;5;66;03m# called before we get here, causing self._jobs to\u001b[39;00m\n\u001b[1;32m    782\u001b[0m     \u001b[38;5;66;03m# grow. To ensure correct results ordering, .insert is\u001b[39;00m\n\u001b[1;32m    783\u001b[0m     \u001b[38;5;66;03m# used (rather than .append) in the following line\u001b[39;00m\n\u001b[1;32m    784\u001b[0m     \u001b[38;5;28mself\u001b[39m\u001b[38;5;241m.\u001b[39m_jobs\u001b[38;5;241m.\u001b[39minsert(job_idx, job)\n",
      "File \u001b[0;32m/Library/Frameworks/Python.framework/Versions/3.9/lib/python3.9/site-packages/joblib/_parallel_backends.py:208\u001b[0m, in \u001b[0;36mSequentialBackend.apply_async\u001b[0;34m(self, func, callback)\u001b[0m\n\u001b[1;32m    206\u001b[0m \u001b[38;5;28;01mdef\u001b[39;00m \u001b[38;5;21mapply_async\u001b[39m(\u001b[38;5;28mself\u001b[39m, func, callback\u001b[38;5;241m=\u001b[39m\u001b[38;5;28;01mNone\u001b[39;00m):\n\u001b[1;32m    207\u001b[0m     \u001b[38;5;124;03m\"\"\"Schedule a func to be run\"\"\"\u001b[39;00m\n\u001b[0;32m--> 208\u001b[0m     result \u001b[38;5;241m=\u001b[39m \u001b[43mImmediateResult\u001b[49m\u001b[43m(\u001b[49m\u001b[43mfunc\u001b[49m\u001b[43m)\u001b[49m\n\u001b[1;32m    209\u001b[0m     \u001b[38;5;28;01mif\u001b[39;00m callback:\n\u001b[1;32m    210\u001b[0m         callback(result)\n",
      "File \u001b[0;32m/Library/Frameworks/Python.framework/Versions/3.9/lib/python3.9/site-packages/joblib/_parallel_backends.py:572\u001b[0m, in \u001b[0;36mImmediateResult.__init__\u001b[0;34m(self, batch)\u001b[0m\n\u001b[1;32m    569\u001b[0m \u001b[38;5;28;01mdef\u001b[39;00m \u001b[38;5;21m__init__\u001b[39m(\u001b[38;5;28mself\u001b[39m, batch):\n\u001b[1;32m    570\u001b[0m     \u001b[38;5;66;03m# Don't delay the application, to avoid keeping the input\u001b[39;00m\n\u001b[1;32m    571\u001b[0m     \u001b[38;5;66;03m# arguments in memory\u001b[39;00m\n\u001b[0;32m--> 572\u001b[0m     \u001b[38;5;28mself\u001b[39m\u001b[38;5;241m.\u001b[39mresults \u001b[38;5;241m=\u001b[39m \u001b[43mbatch\u001b[49m\u001b[43m(\u001b[49m\u001b[43m)\u001b[49m\n",
      "File \u001b[0;32m/Library/Frameworks/Python.framework/Versions/3.9/lib/python3.9/site-packages/joblib/parallel.py:262\u001b[0m, in \u001b[0;36mBatchedCalls.__call__\u001b[0;34m(self)\u001b[0m\n\u001b[1;32m    258\u001b[0m \u001b[38;5;28;01mdef\u001b[39;00m \u001b[38;5;21m__call__\u001b[39m(\u001b[38;5;28mself\u001b[39m):\n\u001b[1;32m    259\u001b[0m     \u001b[38;5;66;03m# Set the default nested backend to self._backend but do not set the\u001b[39;00m\n\u001b[1;32m    260\u001b[0m     \u001b[38;5;66;03m# change the default number of processes to -1\u001b[39;00m\n\u001b[1;32m    261\u001b[0m     \u001b[38;5;28;01mwith\u001b[39;00m parallel_backend(\u001b[38;5;28mself\u001b[39m\u001b[38;5;241m.\u001b[39m_backend, n_jobs\u001b[38;5;241m=\u001b[39m\u001b[38;5;28mself\u001b[39m\u001b[38;5;241m.\u001b[39m_n_jobs):\n\u001b[0;32m--> 262\u001b[0m         \u001b[38;5;28;01mreturn\u001b[39;00m [func(\u001b[38;5;241m*\u001b[39margs, \u001b[38;5;241m*\u001b[39m\u001b[38;5;241m*\u001b[39mkwargs)\n\u001b[1;32m    263\u001b[0m                 \u001b[38;5;28;01mfor\u001b[39;00m func, args, kwargs \u001b[38;5;129;01min\u001b[39;00m \u001b[38;5;28mself\u001b[39m\u001b[38;5;241m.\u001b[39mitems]\n",
      "File \u001b[0;32m/Library/Frameworks/Python.framework/Versions/3.9/lib/python3.9/site-packages/joblib/parallel.py:262\u001b[0m, in \u001b[0;36m<listcomp>\u001b[0;34m(.0)\u001b[0m\n\u001b[1;32m    258\u001b[0m \u001b[38;5;28;01mdef\u001b[39;00m \u001b[38;5;21m__call__\u001b[39m(\u001b[38;5;28mself\u001b[39m):\n\u001b[1;32m    259\u001b[0m     \u001b[38;5;66;03m# Set the default nested backend to self._backend but do not set the\u001b[39;00m\n\u001b[1;32m    260\u001b[0m     \u001b[38;5;66;03m# change the default number of processes to -1\u001b[39;00m\n\u001b[1;32m    261\u001b[0m     \u001b[38;5;28;01mwith\u001b[39;00m parallel_backend(\u001b[38;5;28mself\u001b[39m\u001b[38;5;241m.\u001b[39m_backend, n_jobs\u001b[38;5;241m=\u001b[39m\u001b[38;5;28mself\u001b[39m\u001b[38;5;241m.\u001b[39m_n_jobs):\n\u001b[0;32m--> 262\u001b[0m         \u001b[38;5;28;01mreturn\u001b[39;00m [\u001b[43mfunc\u001b[49m\u001b[43m(\u001b[49m\u001b[38;5;241;43m*\u001b[39;49m\u001b[43margs\u001b[49m\u001b[43m,\u001b[49m\u001b[43m \u001b[49m\u001b[38;5;241;43m*\u001b[39;49m\u001b[38;5;241;43m*\u001b[39;49m\u001b[43mkwargs\u001b[49m\u001b[43m)\u001b[49m\n\u001b[1;32m    263\u001b[0m                 \u001b[38;5;28;01mfor\u001b[39;00m func, args, kwargs \u001b[38;5;129;01min\u001b[39;00m \u001b[38;5;28mself\u001b[39m\u001b[38;5;241m.\u001b[39mitems]\n",
      "File \u001b[0;32m/Library/Frameworks/Python.framework/Versions/3.9/lib/python3.9/site-packages/sklearn/utils/fixes.py:216\u001b[0m, in \u001b[0;36m_FuncWrapper.__call__\u001b[0;34m(self, *args, **kwargs)\u001b[0m\n\u001b[1;32m    214\u001b[0m \u001b[38;5;28;01mdef\u001b[39;00m \u001b[38;5;21m__call__\u001b[39m(\u001b[38;5;28mself\u001b[39m, \u001b[38;5;241m*\u001b[39margs, \u001b[38;5;241m*\u001b[39m\u001b[38;5;241m*\u001b[39mkwargs):\n\u001b[1;32m    215\u001b[0m     \u001b[38;5;28;01mwith\u001b[39;00m config_context(\u001b[38;5;241m*\u001b[39m\u001b[38;5;241m*\u001b[39m\u001b[38;5;28mself\u001b[39m\u001b[38;5;241m.\u001b[39mconfig):\n\u001b[0;32m--> 216\u001b[0m         \u001b[38;5;28;01mreturn\u001b[39;00m \u001b[38;5;28;43mself\u001b[39;49m\u001b[38;5;241;43m.\u001b[39;49m\u001b[43mfunction\u001b[49m\u001b[43m(\u001b[49m\u001b[38;5;241;43m*\u001b[39;49m\u001b[43margs\u001b[49m\u001b[43m,\u001b[49m\u001b[43m \u001b[49m\u001b[38;5;241;43m*\u001b[39;49m\u001b[38;5;241;43m*\u001b[39;49m\u001b[43mkwargs\u001b[49m\u001b[43m)\u001b[49m\n",
      "File \u001b[0;32m/Library/Frameworks/Python.framework/Versions/3.9/lib/python3.9/site-packages/sklearn/model_selection/_validation.py:680\u001b[0m, in \u001b[0;36m_fit_and_score\u001b[0;34m(estimator, X, y, scorer, train, test, verbose, parameters, fit_params, return_train_score, return_parameters, return_n_test_samples, return_times, return_estimator, split_progress, candidate_progress, error_score)\u001b[0m\n\u001b[1;32m    678\u001b[0m         estimator\u001b[38;5;241m.\u001b[39mfit(X_train, \u001b[38;5;241m*\u001b[39m\u001b[38;5;241m*\u001b[39mfit_params)\n\u001b[1;32m    679\u001b[0m     \u001b[38;5;28;01melse\u001b[39;00m:\n\u001b[0;32m--> 680\u001b[0m         \u001b[43mestimator\u001b[49m\u001b[38;5;241;43m.\u001b[39;49m\u001b[43mfit\u001b[49m\u001b[43m(\u001b[49m\u001b[43mX_train\u001b[49m\u001b[43m,\u001b[49m\u001b[43m \u001b[49m\u001b[43my_train\u001b[49m\u001b[43m,\u001b[49m\u001b[43m \u001b[49m\u001b[38;5;241;43m*\u001b[39;49m\u001b[38;5;241;43m*\u001b[39;49m\u001b[43mfit_params\u001b[49m\u001b[43m)\u001b[49m\n\u001b[1;32m    682\u001b[0m \u001b[38;5;28;01mexcept\u001b[39;00m \u001b[38;5;167;01mException\u001b[39;00m:\n\u001b[1;32m    683\u001b[0m     \u001b[38;5;66;03m# Note fit time as time until error\u001b[39;00m\n\u001b[1;32m    684\u001b[0m     fit_time \u001b[38;5;241m=\u001b[39m time\u001b[38;5;241m.\u001b[39mtime() \u001b[38;5;241m-\u001b[39m start_time\n",
      "File \u001b[0;32m/Library/Frameworks/Python.framework/Versions/3.9/lib/python3.9/site-packages/xgboost/core.py:575\u001b[0m, in \u001b[0;36m_deprecate_positional_args.<locals>.inner_f\u001b[0;34m(*args, **kwargs)\u001b[0m\n\u001b[1;32m    573\u001b[0m \u001b[38;5;28;01mfor\u001b[39;00m k, arg \u001b[38;5;129;01min\u001b[39;00m \u001b[38;5;28mzip\u001b[39m(sig\u001b[38;5;241m.\u001b[39mparameters, args):\n\u001b[1;32m    574\u001b[0m     kwargs[k] \u001b[38;5;241m=\u001b[39m arg\n\u001b[0;32m--> 575\u001b[0m \u001b[38;5;28;01mreturn\u001b[39;00m \u001b[43mf\u001b[49m\u001b[43m(\u001b[49m\u001b[38;5;241;43m*\u001b[39;49m\u001b[38;5;241;43m*\u001b[39;49m\u001b[43mkwargs\u001b[49m\u001b[43m)\u001b[49m\n",
      "File \u001b[0;32m/Library/Frameworks/Python.framework/Versions/3.9/lib/python3.9/site-packages/xgboost/sklearn.py:1400\u001b[0m, in \u001b[0;36mXGBClassifier.fit\u001b[0;34m(self, X, y, sample_weight, base_margin, eval_set, eval_metric, early_stopping_rounds, verbose, xgb_model, sample_weight_eval_set, base_margin_eval_set, feature_weights, callbacks)\u001b[0m\n\u001b[1;32m   1379\u001b[0m model, metric, params, early_stopping_rounds, callbacks \u001b[38;5;241m=\u001b[39m \u001b[38;5;28mself\u001b[39m\u001b[38;5;241m.\u001b[39m_configure_fit(\n\u001b[1;32m   1380\u001b[0m     xgb_model, eval_metric, params, early_stopping_rounds, callbacks\n\u001b[1;32m   1381\u001b[0m )\n\u001b[1;32m   1382\u001b[0m train_dmatrix, evals \u001b[38;5;241m=\u001b[39m _wrap_evaluation_matrices(\n\u001b[1;32m   1383\u001b[0m     missing\u001b[38;5;241m=\u001b[39m\u001b[38;5;28mself\u001b[39m\u001b[38;5;241m.\u001b[39mmissing,\n\u001b[1;32m   1384\u001b[0m     X\u001b[38;5;241m=\u001b[39mX,\n\u001b[0;32m   (...)\u001b[0m\n\u001b[1;32m   1397\u001b[0m     enable_categorical\u001b[38;5;241m=\u001b[39m\u001b[38;5;28mself\u001b[39m\u001b[38;5;241m.\u001b[39menable_categorical,\n\u001b[1;32m   1398\u001b[0m )\n\u001b[0;32m-> 1400\u001b[0m \u001b[38;5;28mself\u001b[39m\u001b[38;5;241m.\u001b[39m_Booster \u001b[38;5;241m=\u001b[39m \u001b[43mtrain\u001b[49m\u001b[43m(\u001b[49m\n\u001b[1;32m   1401\u001b[0m \u001b[43m    \u001b[49m\u001b[43mparams\u001b[49m\u001b[43m,\u001b[49m\n\u001b[1;32m   1402\u001b[0m \u001b[43m    \u001b[49m\u001b[43mtrain_dmatrix\u001b[49m\u001b[43m,\u001b[49m\n\u001b[1;32m   1403\u001b[0m \u001b[43m    \u001b[49m\u001b[38;5;28;43mself\u001b[39;49m\u001b[38;5;241;43m.\u001b[39;49m\u001b[43mget_num_boosting_rounds\u001b[49m\u001b[43m(\u001b[49m\u001b[43m)\u001b[49m\u001b[43m,\u001b[49m\n\u001b[1;32m   1404\u001b[0m \u001b[43m    \u001b[49m\u001b[43mevals\u001b[49m\u001b[38;5;241;43m=\u001b[39;49m\u001b[43mevals\u001b[49m\u001b[43m,\u001b[49m\n\u001b[1;32m   1405\u001b[0m \u001b[43m    \u001b[49m\u001b[43mearly_stopping_rounds\u001b[49m\u001b[38;5;241;43m=\u001b[39;49m\u001b[43mearly_stopping_rounds\u001b[49m\u001b[43m,\u001b[49m\n\u001b[1;32m   1406\u001b[0m \u001b[43m    \u001b[49m\u001b[43mevals_result\u001b[49m\u001b[38;5;241;43m=\u001b[39;49m\u001b[43mevals_result\u001b[49m\u001b[43m,\u001b[49m\n\u001b[1;32m   1407\u001b[0m \u001b[43m    \u001b[49m\u001b[43mobj\u001b[49m\u001b[38;5;241;43m=\u001b[39;49m\u001b[43mobj\u001b[49m\u001b[43m,\u001b[49m\n\u001b[1;32m   1408\u001b[0m \u001b[43m    \u001b[49m\u001b[43mcustom_metric\u001b[49m\u001b[38;5;241;43m=\u001b[39;49m\u001b[43mmetric\u001b[49m\u001b[43m,\u001b[49m\n\u001b[1;32m   1409\u001b[0m \u001b[43m    \u001b[49m\u001b[43mverbose_eval\u001b[49m\u001b[38;5;241;43m=\u001b[39;49m\u001b[43mverbose\u001b[49m\u001b[43m,\u001b[49m\n\u001b[1;32m   1410\u001b[0m \u001b[43m    \u001b[49m\u001b[43mxgb_model\u001b[49m\u001b[38;5;241;43m=\u001b[39;49m\u001b[43mmodel\u001b[49m\u001b[43m,\u001b[49m\n\u001b[1;32m   1411\u001b[0m \u001b[43m    \u001b[49m\u001b[43mcallbacks\u001b[49m\u001b[38;5;241;43m=\u001b[39;49m\u001b[43mcallbacks\u001b[49m\u001b[43m,\u001b[49m\n\u001b[1;32m   1412\u001b[0m \u001b[43m\u001b[49m\u001b[43m)\u001b[49m\n\u001b[1;32m   1414\u001b[0m \u001b[38;5;28;01mif\u001b[39;00m \u001b[38;5;129;01mnot\u001b[39;00m callable(\u001b[38;5;28mself\u001b[39m\u001b[38;5;241m.\u001b[39mobjective):\n\u001b[1;32m   1415\u001b[0m     \u001b[38;5;28mself\u001b[39m\u001b[38;5;241m.\u001b[39mobjective \u001b[38;5;241m=\u001b[39m params[\u001b[38;5;124m\"\u001b[39m\u001b[38;5;124mobjective\u001b[39m\u001b[38;5;124m\"\u001b[39m]\n",
      "File \u001b[0;32m/Library/Frameworks/Python.framework/Versions/3.9/lib/python3.9/site-packages/xgboost/core.py:575\u001b[0m, in \u001b[0;36m_deprecate_positional_args.<locals>.inner_f\u001b[0;34m(*args, **kwargs)\u001b[0m\n\u001b[1;32m    573\u001b[0m \u001b[38;5;28;01mfor\u001b[39;00m k, arg \u001b[38;5;129;01min\u001b[39;00m \u001b[38;5;28mzip\u001b[39m(sig\u001b[38;5;241m.\u001b[39mparameters, args):\n\u001b[1;32m    574\u001b[0m     kwargs[k] \u001b[38;5;241m=\u001b[39m arg\n\u001b[0;32m--> 575\u001b[0m \u001b[38;5;28;01mreturn\u001b[39;00m \u001b[43mf\u001b[49m\u001b[43m(\u001b[49m\u001b[38;5;241;43m*\u001b[39;49m\u001b[38;5;241;43m*\u001b[39;49m\u001b[43mkwargs\u001b[49m\u001b[43m)\u001b[49m\n",
      "File \u001b[0;32m/Library/Frameworks/Python.framework/Versions/3.9/lib/python3.9/site-packages/xgboost/training.py:181\u001b[0m, in \u001b[0;36mtrain\u001b[0;34m(params, dtrain, num_boost_round, evals, obj, feval, maximize, early_stopping_rounds, evals_result, verbose_eval, xgb_model, callbacks, custom_metric)\u001b[0m\n\u001b[1;32m    179\u001b[0m \u001b[38;5;28;01mif\u001b[39;00m cb_container\u001b[38;5;241m.\u001b[39mbefore_iteration(bst, i, dtrain, evals):\n\u001b[1;32m    180\u001b[0m     \u001b[38;5;28;01mbreak\u001b[39;00m\n\u001b[0;32m--> 181\u001b[0m \u001b[43mbst\u001b[49m\u001b[38;5;241;43m.\u001b[39;49m\u001b[43mupdate\u001b[49m\u001b[43m(\u001b[49m\u001b[43mdtrain\u001b[49m\u001b[43m,\u001b[49m\u001b[43m \u001b[49m\u001b[43mi\u001b[49m\u001b[43m,\u001b[49m\u001b[43m \u001b[49m\u001b[43mobj\u001b[49m\u001b[43m)\u001b[49m\n\u001b[1;32m    182\u001b[0m \u001b[38;5;28;01mif\u001b[39;00m cb_container\u001b[38;5;241m.\u001b[39mafter_iteration(bst, i, dtrain, evals):\n\u001b[1;32m    183\u001b[0m     \u001b[38;5;28;01mbreak\u001b[39;00m\n",
      "File \u001b[0;32m/Library/Frameworks/Python.framework/Versions/3.9/lib/python3.9/site-packages/xgboost/core.py:1778\u001b[0m, in \u001b[0;36mBooster.update\u001b[0;34m(self, dtrain, iteration, fobj)\u001b[0m\n\u001b[1;32m   1775\u001b[0m \u001b[38;5;28mself\u001b[39m\u001b[38;5;241m.\u001b[39m_validate_features(dtrain)\n\u001b[1;32m   1777\u001b[0m \u001b[38;5;28;01mif\u001b[39;00m fobj \u001b[38;5;129;01mis\u001b[39;00m \u001b[38;5;28;01mNone\u001b[39;00m:\n\u001b[0;32m-> 1778\u001b[0m     _check_call(\u001b[43m_LIB\u001b[49m\u001b[38;5;241;43m.\u001b[39;49m\u001b[43mXGBoosterUpdateOneIter\u001b[49m\u001b[43m(\u001b[49m\u001b[38;5;28;43mself\u001b[39;49m\u001b[38;5;241;43m.\u001b[39;49m\u001b[43mhandle\u001b[49m\u001b[43m,\u001b[49m\n\u001b[1;32m   1779\u001b[0m \u001b[43m                                            \u001b[49m\u001b[43mctypes\u001b[49m\u001b[38;5;241;43m.\u001b[39;49m\u001b[43mc_int\u001b[49m\u001b[43m(\u001b[49m\u001b[43miteration\u001b[49m\u001b[43m)\u001b[49m\u001b[43m,\u001b[49m\n\u001b[1;32m   1780\u001b[0m \u001b[43m                                            \u001b[49m\u001b[43mdtrain\u001b[49m\u001b[38;5;241;43m.\u001b[39;49m\u001b[43mhandle\u001b[49m\u001b[43m)\u001b[49m)\n\u001b[1;32m   1781\u001b[0m \u001b[38;5;28;01melse\u001b[39;00m:\n\u001b[1;32m   1782\u001b[0m     pred \u001b[38;5;241m=\u001b[39m \u001b[38;5;28mself\u001b[39m\u001b[38;5;241m.\u001b[39mpredict(dtrain, output_margin\u001b[38;5;241m=\u001b[39m\u001b[38;5;28;01mTrue\u001b[39;00m, training\u001b[38;5;241m=\u001b[39m\u001b[38;5;28;01mTrue\u001b[39;00m)\n",
      "\u001b[0;31mKeyboardInterrupt\u001b[0m: "
     ]
    }
   ],
   "source": [
    "params = {\n",
    "    'max_depth': [3,6,10], \n",
    "    'learning_rate': [0.01, 0.05, 0.1],\n",
    "    'n_estimators': [100, 500, 1000],\n",
    "    'colsample_bytree': [0.3, 0.7],\n",
    "    'subsample':[0.5,1]}\n",
    "\n",
    "xgb_estimator = XGBClassifier(random_state=0)\n",
    "grid_search = GridSearchCV(estimator=xgb_estimator, \n",
    "                   param_grid=params,\n",
    "                   scoring='accuracy', \n",
    "                   verbose=1)\n",
    "\n",
    "grid_result = grid_search.fit(X_train_sc, y_train_sc)\n",
    "print(\"Best parameters:\", grid_result.best_params_)\n",
    "print(\"Best Accuracy: \", (grid_result.best_score_))"
   ]
  },
  {
   "cell_type": "markdown",
   "id": "9bfedbd3",
   "metadata": {},
   "source": [
    "PS: if time allows, it will be better if a grid search is performed to find the best combination of parameters to be used in the XGBClassifier. Currently it is stopped because it already took hours to compile (more than 6 hours)."
   ]
  },
  {
   "cell_type": "markdown",
   "id": "8d6992db",
   "metadata": {},
   "source": [
    "## 4. Evaluation and Remodel\n",
    "Comparing each of the experimented model by its accuracy, precision, recall, False Positive Rates (FPR), AUC, and ROC"
   ]
  },
  {
   "cell_type": "code",
   "execution_count": 216,
   "id": "8df75c6a",
   "metadata": {},
   "outputs": [
    {
     "name": "stdout",
     "output_type": "stream",
     "text": [
      "Model: xgb_1\n",
      "The accuracy of the xgb_1 model is 88.6%\n",
      "The precision of the xgb_1 model is 87.7%\n",
      "The recall score of the xgb_1 model is 39.1%\n",
      "The f1 score of the xgb_1 model is 54.1%\n",
      "==============================================================================\n",
      "Model: xgb_smote\n",
      "The accuracy of the xgb_smote model is 88.2%\n",
      "The precision of the xgb_smote model is 86.2%\n",
      "The recall score of the xgb_smote model is 37.3%\n",
      "The f1 score of the xgb_smote model is 52.1%\n",
      "==============================================================================\n",
      "Model: xgb_ada\n",
      "The accuracy of the xgb_ada model is 88.2%\n",
      "The precision of the xgb_ada model is 86.2%\n",
      "The recall score of the xgb_ada model is 37.3%\n",
      "The f1 score of the xgb_ada model is 52.1%\n",
      "==============================================================================\n",
      "Model: xgb_rus\n",
      "The accuracy of the xgb_rus model is 76.0%\n",
      "The precision of the xgb_rus model is 37.4%\n",
      "The recall score of the xgb_rus model is 59.4%\n",
      "The f1 score of the xgb_rus model is 45.9%\n",
      "==============================================================================\n",
      "Model: xgb_sc\n",
      "The accuracy of the xgb_sc model is 88.8%\n",
      "The precision of the xgb_sc model is 88.5%\n",
      "The recall score of the xgb_sc model is 39.800000000000004%\n",
      "The f1 score of the xgb_sc model is 54.900000000000006%\n",
      "==============================================================================\n",
      "Model: xgb_sc_tuned_1\n",
      "The accuracy of the xgb_sc_tuned_1 model is 88.6%\n",
      "The precision of the xgb_sc_tuned_1 model is 87.7%\n",
      "The recall score of the xgb_sc_tuned_1 model is 39.1%\n",
      "The f1 score of the xgb_sc_tuned_1 model is 54.1%\n",
      "==============================================================================\n",
      "Model: xgb_sc_tuned_2\n",
      "The accuracy of the xgb_sc_tuned_2 model is 88.8%\n",
      "The precision of the xgb_sc_tuned_2 model is 82.69999999999999%\n",
      "The recall score of the xgb_sc_tuned_2 model is 44.0%\n",
      "The f1 score of the xgb_sc_tuned_2 model is 57.4%\n",
      "==============================================================================\n"
     ]
    }
   ],
   "source": [
    "models = {\n",
    "    'xgb_1': y_pred_1,\n",
    "    'xgb_smote': y_pred_smote,\n",
    "    'xgb_ada': y_pred_ada,\n",
    "    'xgb_rus': y_pred_rus,\n",
    "    'xgb_sc': y_pred_sc,\n",
    "    'xgb_sc_tuned_1': y_pred_sc_tuned_1,\n",
    "    'xgb_sc_tuned_2': y_pred_sc_tuned_2\n",
    "}\n",
    "\n",
    "for key, val in models.items():\n",
    "    test = ''\n",
    "    # Selecting test set\n",
    "    if key == 'xgb_1':\n",
    "        test = y_test\n",
    "    elif key == 'xgb_sc' or key == 'xgb_sc_tuned_1' or key == 'xgb_sc_tuned_2':\n",
    "        test = y_test_sc\n",
    "    else:\n",
    "        test = y_test_nan_dropped\n",
    "        \n",
    "    \n",
    "    print(f\"Model: {key}\")\n",
    "    accuracy = accuracy_score(test,val)\n",
    "    print(f\"The accuracy of the {key} model is {round(accuracy,3)*100}%\")\n",
    "\n",
    "    precision = precision_score(test,val)\n",
    "    print(f\"The precision of the {key} model is {round(precision,3)*100}%\")\n",
    "\n",
    "    recall = recall_score(test,val)\n",
    "    print(f\"The recall score of the {key} model is {round(recall,3)*100}%\")\n",
    "\n",
    "    f1 = f1_score(test,val)\n",
    "    print(f\"The f1 score of the {key} model is {round(f1,3)*100}%\")\n",
    "    \n",
    "    print(\"==============================================================================\")"
   ]
  },
  {
   "cell_type": "markdown",
   "id": "bb694800",
   "metadata": {},
   "source": [
    "### 4.1. Remodel and get the feature importance for the developed model\n",
    "From the evaluation above, it can be seen that xgb_sc model has the best f1 score of 54.9%, however, the training data was not resampled to make it balanced between each of the class (0 or 1). Therefore, in this section, an experiment to remodel with oversampled data train (i.e., using SMOTE) combined with dropping attributes with weak correlations to target variable y will be performed.\n",
    "\n",
    "note: xgb_smote (SMOTE oversampled) and xgb_sc (dropped attr. with weak correlations without oversampling)"
   ]
  },
  {
   "cell_type": "code",
   "execution_count": 186,
   "id": "200b20dc",
   "metadata": {},
   "outputs": [],
   "source": [
    "# Oversampled data with only strongly correlated attributes\n",
    "\n",
    "df_train_nan_dropped_sc = df_train_nan_dropped[:]\n",
    "\n",
    "X_train_nan_dropped_sc = df_train_nan_dropped_sc[sc_features].values\n",
    "y_train_nan_dropped_sc = df_train_nan_dropped_sc[target].values.flatten()\n",
    "\n",
    "X_train_smote_sc, y_train_smote_sc = smote.fit_resample(X_train_nan_dropped_sc, y_train_nan_dropped_sc)\n",
    "\n",
    "# Test data: use the NaN dropped: X_test_nan_dropped and y_test_nan_dropped with sc?????"
   ]
  },
  {
   "cell_type": "code",
   "execution_count": 189,
   "id": "617ac117",
   "metadata": {},
   "outputs": [],
   "source": [
    "df_test_nan_dropped_sc = df_test_nan_dropped[:]\n",
    "X_test_nan_dropped_sc = df_test_nan_dropped_sc[sc_features].values\n",
    "y_test_nan_dropped_sc = df_test_nan_dropped_sc[target].values.flatten()"
   ]
  },
  {
   "cell_type": "code",
   "execution_count": 188,
   "id": "f2f938c3",
   "metadata": {},
   "outputs": [
    {
     "name": "stdout",
     "output_type": "stream",
     "text": [
      "Class=0, n=70237 (50.0%)\n",
      "Class=1, n=70237 (50.0%)\n"
     ]
    },
    {
     "data": {
      "image/png": "[encoded data removed]",
      "text/plain": [
       "<Figure size 432x288 with 1 Axes>"
      ]
     },
     "metadata": {
      "needs_background": "light"
     },
     "output_type": "display_data"
    }
   ],
   "source": [
    "counter = Counter(y_train_smote_sc)\n",
    "plt.bar(counter.keys(), counter.values())\n",
    "for k, v in counter.items():\n",
    "    dist = v/len(y_train_smote_sc) * 100\n",
    "    print(f\"Class={k}, n={v} ({dist}%)\")"
   ]
  },
  {
   "cell_type": "code",
   "execution_count": 191,
   "id": "03f8c30d",
   "metadata": {},
   "outputs": [
    {
     "name": "stdout",
     "output_type": "stream",
     "text": [
      "The accuracy of the model is 88.9%\n",
      "The precision of the model is 87.0%\n",
      "The recall of the model is 41.199999999999996%\n",
      "The f1 of the model is 55.900000000000006%\n"
     ]
    }
   ],
   "source": [
    "# Model\n",
    "xgb_smote_sc = XGBClassifier(random_state=0)\n",
    "xgb_smote_sc.fit(X_train_smote_sc, y_train_smote_sc)\n",
    "\n",
    "# Prediction\n",
    "y_pred_smote_sc = xgb_smote_sc.predict(X_test_nan_dropped_sc)\n",
    "\n",
    "# Evaluation - accuracy\n",
    "accuracy_smote_sc = accuracy_score(y_test_nan_dropped_sc,y_pred_smote_sc)\n",
    "print(f\"The accuracy of the model is {round(accuracy_smote_sc,3)*100}%\")\n",
    "\n",
    "precision_smote_sc = precision_score(y_test_nan_dropped_sc,y_pred_smote_sc)\n",
    "print(f\"The precision of the model is {round(precision_smote_sc,3)*100}%\")\n",
    "\n",
    "recall_smote_sc = recall_score(y_test_nan_dropped_sc,y_pred_smote_sc)\n",
    "print(f\"The recall of the model is {round(recall_smote_sc,3)*100}%\")\n",
    "\n",
    "f1_smote_sc = f1_score(y_test_nan_dropped_sc,y_pred_smote_sc)\n",
    "print(f\"The f1 of the model is {round(f1_smote_sc,3)*100}%\")"
   ]
  },
  {
   "cell_type": "markdown",
   "id": "a217031e",
   "metadata": {},
   "source": [
    "The model performs better than previous ones. Now, its feature importance will be explored and by using attributes with feature importance >= 0.005, the model will be redeveloped."
   ]
  },
  {
   "cell_type": "code",
   "execution_count": 192,
   "id": "ac3365b0",
   "metadata": {},
   "outputs": [
    {
     "data": {
      "text/plain": [
       "['x57',\n",
       " 'x41',\n",
       " 'x60',\n",
       " 'x44',\n",
       " 'x105',\n",
       " 'x67',\n",
       " 'x119',\n",
       " 'x61',\n",
       " 'x13',\n",
       " 'x62',\n",
       " 'x59',\n",
       " 'x72',\n",
       " 'x122',\n",
       " 'x107',\n",
       " 'x19',\n",
       " 'x82',\n",
       " 'x17',\n",
       " 'x106',\n",
       " 'x92',\n",
       " 'x91',\n",
       " 'x28',\n",
       " 'x46',\n",
       " 'x118',\n",
       " 'x96',\n",
       " 'x104',\n",
       " 'x117',\n",
       " 'x65',\n",
       " 'x75',\n",
       " 'x45',\n",
       " 'x35',\n",
       " 'x103',\n",
       " 'x39',\n",
       " 'x15',\n",
       " 'x50',\n",
       " 'x71',\n",
       " 'x31']"
      ]
     },
     "execution_count": 192,
     "metadata": {},
     "output_type": "execute_result"
    }
   ],
   "source": [
    "# Feature importance for model: xgb_smote_sc\n",
    "fi_xgb_smote_sc = xgb_smote_sc.feature_importances_\n",
    "relative_importance_fi_xgb_smote_sc = pd.DataFrame(index=sc_features, data=fi_xgb_smote_sc, columns=['importance'])\n",
    "fi_xgb_smote_sc_selected = relative_importance_fi_xgb_smote_sc.index[relative_importance_fi_xgb_smote_sc['importance'] >= 0.005].tolist()\n",
    "fi_xgb_smote_sc_selected"
   ]
  },
  {
   "cell_type": "code",
   "execution_count": 193,
   "id": "a5fba241",
   "metadata": {},
   "outputs": [],
   "source": [
    "# Redevelop the model with attributes that have feature importance of >= 0.005\n",
    "X_train_nan_dropped_sc_fi = df_train_nan_dropped_sc[fi_xgb_smote_sc_selected].values\n",
    "y_train_nan_dropped_sc_fi = df_train_nan_dropped_sc[target].values.flatten()\n",
    "\n",
    "X_train_smote_sc_fi, y_train_smote_sc_fi = smote.fit_resample(X_train_nan_dropped_sc_fi, y_train_nan_dropped_sc_fi)"
   ]
  },
  {
   "cell_type": "code",
   "execution_count": 194,
   "id": "42e5ef28",
   "metadata": {},
   "outputs": [],
   "source": [
    "X_test_nan_dropped_sc_fi = df_test_nan_dropped_sc[fi_xgb_smote_sc_selected].values\n",
    "y_test_nan_dropped_sc_fi = df_test_nan_dropped_sc[target].values.flatten()"
   ]
  },
  {
   "cell_type": "code",
   "execution_count": 195,
   "id": "f70d7b02",
   "metadata": {},
   "outputs": [
    {
     "name": "stdout",
     "output_type": "stream",
     "text": [
      "The accuracy of the model is 88.9%\n",
      "The precision of the model is 86.9%\n",
      "The recall of the model is 41.099999999999994%\n",
      "The f1 of the model is 55.800000000000004%\n"
     ]
    }
   ],
   "source": [
    "# Model\n",
    "xgb_smote_sc_fi = XGBClassifier(random_state=0)\n",
    "xgb_smote_sc_fi.fit(X_train_smote_sc_fi, y_train_smote_sc_fi)\n",
    "\n",
    "# Prediction\n",
    "y_pred_smote_sc_fi = xgb_smote_sc_fi.predict(X_test_nan_dropped_sc_fi)\n",
    "\n",
    "# Evaluation - accuracy\n",
    "accuracy_smote_sc_fi = accuracy_score(y_test_nan_dropped_sc_fi,y_pred_smote_sc_fi)\n",
    "print(f\"The accuracy of the model is {round(accuracy_smote_sc_fi,3)*100}%\")\n",
    "\n",
    "precision_smote_sc_fi = precision_score(y_test_nan_dropped_sc_fi,y_pred_smote_sc_fi)\n",
    "print(f\"The precision of the model is {round(precision_smote_sc_fi,3)*100}%\")\n",
    "\n",
    "recall_smote_sc_fi = recall_score(y_test_nan_dropped_sc_fi,y_pred_smote_sc_fi)\n",
    "print(f\"The recall of the model is {round(recall_smote_sc_fi,3)*100}%\")\n",
    "\n",
    "f1_smote_sc_fi = f1_score(y_test_nan_dropped_sc_fi,y_pred_smote_sc_fi)\n",
    "print(f\"The f1 of the model is {round(f1_smote_sc_fi,3)*100}%\")"
   ]
  },
  {
   "cell_type": "markdown",
   "id": "343c00a2",
   "metadata": {},
   "source": [
    "The resulted model performs very slightly worse than the previos model xgb_smote_sc (without using only attributes with feature importance >= 0.005). Therefore, we will use the xgb_smote_sc model for the next experiment (i.e., perform hyperparameter tuning - intuitively).\n",
    "\n",
    "PS: Grid search for each combination of hyperparameter can be done to get the best combination for the model. However, it took too long to compile (as mentioned above, 6 hours are not enough). Therefore, in this case, hyperparameter tuning will be performed intuitively by using XGBoost's documentation as reference."
   ]
  },
  {
   "cell_type": "code",
   "execution_count": 200,
   "id": "3a795e48",
   "metadata": {},
   "outputs": [
    {
     "name": "stdout",
     "output_type": "stream",
     "text": [
      "The accuracy of the model is 88.9%\n",
      "The precision of the model is 87.0%\n",
      "The recall of the model is 41.199999999999996%\n",
      "The f1 of the model is 55.900000000000006%\n"
     ]
    }
   ],
   "source": [
    "# Model - Intuitive hyperparameter tuning\n",
    "xgb_smote_sc_tuned = XGBClassifier(random_state=0,max_depth=5,n_estimators=500,learning_rate=0.3,subsample=0.6,gamma=0.8,reg_lambda=1.2,alpha=0.2)\n",
    "xgb_smote_sc_tuned.fit(X_train_smote_sc, y_train_smote_sc)\n",
    "\n",
    "# Prediction\n",
    "y_pred_smote_sc_tuned = xgb_smote_sc_tuned.predict(X_test_nan_dropped_sc)\n",
    "\n",
    "# Evaluation - accuracy\n",
    "accuracy_smote_sc_tuned = accuracy_score(y_test_nan_dropped_sc,y_pred_smote_sc)\n",
    "print(f\"The accuracy of the model is {round(accuracy_smote_sc_tuned,3)*100}%\")\n",
    "\n",
    "precision_smote_sc_tuned = precision_score(y_test_nan_dropped_sc,y_pred_smote_sc)\n",
    "print(f\"The precision of the model is {round(precision_smote_sc_tuned,3)*100}%\")\n",
    "\n",
    "recall_smote_sc_tuned = recall_score(y_test_nan_dropped_sc,y_pred_smote_sc)\n",
    "print(f\"The recall of the model is {round(recall_smote_sc_tuned,3)*100}%\")\n",
    "\n",
    "f1_smote_sc_tuned = f1_score(y_test_nan_dropped_sc,y_pred_smote_sc)\n",
    "print(f\"The f1 of the model is {round(f1_smote_sc_tuned,3)*100}%\")"
   ]
  },
  {
   "cell_type": "markdown",
   "id": "593217cc",
   "metadata": {},
   "source": [
    "So the evaluation metrics for this tuned model is the same with xgb_smote_sc model. As mentioned, grid search is a good practice to be done to find the best combination of hyperparameters.\n",
    "\n",
    "Let's use this model as our final model to predict bank customer churn => model: <strong>xgb_smote_sc_tuned</strong>."
   ]
  },
  {
   "cell_type": "markdown",
   "id": "6b53be15",
   "metadata": {},
   "source": [
    "### 4.2. Prediction probabilities\n",
    "Prediction probabilities (predict_proba) accepts a single argument that corresponds to the data over which the probabilities will be computed and returns an array of lists containing the class probabilities for the input data points. This will be used to compute AUROC (Area Under the ROC curve) and ROC (Receiver Operating Characteristics) curve values."
   ]
  },
  {
   "cell_type": "code",
   "execution_count": 204,
   "id": "254e6d8e",
   "metadata": {},
   "outputs": [
    {
     "data": {
      "text/plain": [
       "array([[0.9494996 , 0.05050038],\n",
       "       [0.7606261 , 0.23937394],\n",
       "       [0.92256457, 0.07743543],\n",
       "       ...,\n",
       "       [0.03680599, 0.963194  ],\n",
       "       [0.84717435, 0.15282567],\n",
       "       [0.953823  , 0.04617703]], dtype=float32)"
      ]
     },
     "execution_count": 204,
     "metadata": {},
     "output_type": "execute_result"
    }
   ],
   "source": [
    "xgb_smote_sc_tuned_probs = xgb_smote_sc_tuned.predict_proba(X_test_nan_dropped_sc)\n",
    "xgb_smote_sc_tuned_probs"
   ]
  },
  {
   "cell_type": "markdown",
   "id": "b742ccf0",
   "metadata": {},
   "source": [
    "Probabilities for the positive outcome is kept"
   ]
  },
  {
   "cell_type": "code",
   "execution_count": 205,
   "id": "b7ea25d0",
   "metadata": {},
   "outputs": [
    {
     "data": {
      "text/plain": [
       "array([0.05050038, 0.23937394, 0.07743543, ..., 0.963194  , 0.15282567,\n",
       "       0.04617703], dtype=float32)"
      ]
     },
     "execution_count": 205,
     "metadata": {},
     "output_type": "execute_result"
    }
   ],
   "source": [
    "xgb_smote_sc_tuned_probs = xgb_smote_sc_tuned_probs[:, 1]\n",
    "xgb_smote_sc_tuned_probs"
   ]
  },
  {
   "cell_type": "markdown",
   "id": "bf655103",
   "metadata": {},
   "source": [
    "### 4.3. Computing AUROC and ROC curve values"
   ]
  },
  {
   "cell_type": "code",
   "execution_count": 206,
   "id": "181e9cdd",
   "metadata": {},
   "outputs": [
    {
     "data": {
      "text/plain": [
       "0.7501569826173384"
      ]
     },
     "execution_count": 206,
     "metadata": {},
     "output_type": "execute_result"
    }
   ],
   "source": [
    "# Calculate AUROC\n",
    "xgb_smote_sc_tuned_auc = roc_auc_score(y_test_nan_dropped_sc,xgb_smote_sc_tuned_probs)\n",
    "xgb_smote_sc_tuned_auc"
   ]
  },
  {
   "cell_type": "code",
   "execution_count": 208,
   "id": "6fd98688",
   "metadata": {},
   "outputs": [
    {
     "name": "stdout",
     "output_type": "stream",
     "text": [
      "False Positive Rate: [0.         0.         0.         ... 0.99965628 0.99965628 1.        ]\n",
      "True Positive Rate: [0.00000000e+00 2.77469478e-04 1.10987791e-03 ... 9.99722531e-01\n",
      " 1.00000000e+00 1.00000000e+00]\n"
     ]
    }
   ],
   "source": [
    "# Calculate ROC Curve\n",
    "xgb_smote_sc_tuned_fpr, xgb_smote_sc_tuned_tpr, _ = roc_curve(y_test_nan_dropped_sc, xgb_smote_sc_tuned_probs)\n",
    "fpr = xgb_smote_sc_tuned_fpr\n",
    "tpr = xgb_smote_sc_tuned_tpr\n",
    "print(f\"False Positive Rate: {fpr}\")\n",
    "print(f\"True Positive Rate: {tpr}\")"
   ]
  },
  {
   "cell_type": "code",
   "execution_count": 215,
   "id": "4395f959",
   "metadata": {},
   "outputs": [
    {
     "data": {
      "image/png": "[encoded data removed]",
      "text/plain": [
       "<Figure size 432x288 with 1 Axes>"
      ]
     },
     "metadata": {
      "needs_background": "light"
     },
     "output_type": "display_data"
    }
   ],
   "source": [
    "# Plot the ROC curve\n",
    "\n",
    "# random prediction as baseline in the ROC plot\n",
    "r_probs = [0 for _ in range(len(y_test_nan_dropped_sc))]\n",
    "r_auc = roc_auc_score(y_test_nan_dropped_sc, r_probs)\n",
    "r_fpr,r_tpr,_= roc_curve(y_test_nan_dropped_sc, r_probs)\n",
    "\n",
    "plt.plot(r_fpr, r_tpr, linestyle='--', label='Random prediction (AUROC = %0.3f)' % r_auc)\n",
    "plt.plot(xgb_smote_sc_tuned_fpr, xgb_smote_sc_tuned_tpr, marker='.', label='XGB SMOTE oversampled with dropping features with weak correlations (AUROC = %0.3f)'%xgb_smote_sc_tuned_auc)\n",
    "\n",
    "# Title\n",
    "plt.title('ROC Plot')\n",
    "# Axis label\n",
    "plt.xlabel('False Positive Rate')\n",
    "plt.ylabel('True Positive Rate')\n",
    "# Show legend\n",
    "plt.legend()\n",
    "# Show plot\n",
    "plt.show()"
   ]
  },
  {
   "cell_type": "code",
   "execution_count": 217,
   "id": "e8ae6f73",
   "metadata": {},
   "outputs": [
    {
     "data": {
      "text/plain": [
       "['bank_cust_churn_pred.joblib']"
      ]
     },
     "execution_count": 217,
     "metadata": {},
     "output_type": "execute_result"
    }
   ],
   "source": [
    "# Using joblib (as a file)\n",
    "from joblib import dump, load\n",
    "dump(xgb_smote_sc_tuned, 'bank_cust_churn_pred.joblib') "
   ]
  },
  {
   "cell_type": "code",
   "execution_count": 219,
   "id": "6bd5d20b",
   "metadata": {},
   "outputs": [],
   "source": [
    "# Save predicted values as a csv file\n",
    "pred_df = pd.DataFrame(y_pred_smote_sc_tuned,columns=['Prediction'])\n",
    "pred_df.to_csv(f\"Bank_Churn_Predicted_Output.csv\")"
   ]
  }
 ],
 "metadata": {
  "kernelspec": {
   "display_name": "Python 3 (ipykernel)",
   "language": "python",
   "name": "python3"
  },
  "language_info": {
   "codemirror_mode": {
    "name": "ipython",
    "version": 3
   },
   "file_extension": ".py",
   "mimetype": "text/x-python",
   "name": "python",
   "nbconvert_exporter": "python",
   "pygments_lexer": "ipython3",
   "version": "3.9.6"
  }
 },
 "nbformat": 4,
 "nbformat_minor": 5
}
